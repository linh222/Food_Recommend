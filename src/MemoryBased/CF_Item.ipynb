{
 "nbformat": 4,
 "nbformat_minor": 0,
 "metadata": {
  "colab": {
   "name": "CF_Item.ipynb",
   "provenance": [],
   "collapsed_sections": [],
   "toc_visible": true,
   "authorship_tag": "ABX9TyM2zvuGT4r+fRP/pzDjFPjH"
  },
  "kernelspec": {
   "name": "python3",
   "language": "python",
   "display_name": "Python 3 (ipykernel)"
  },
  "language_info": {
   "name": "python"
  }
 },
 "cells": [
  {
   "cell_type": "code",
   "metadata": {
    "id": "dPJVP8A1kt-P"
   },
   "source": [
    "import pandas as pd\n",
    "import numpy as np\n",
    "from numpy import dot\n",
    "from numpy.linalg import norm\n",
    "from numpy import sqrt\n",
    "\n",
    "from sklearn.metrics import mean_squared_error, mean_absolute_error\n",
    "import math"
   ],
   "execution_count": 1,
   "outputs": []
  },
  {
   "cell_type": "markdown",
   "metadata": {
    "id": "JBsUuflrlNtn"
   },
   "source": [
    "# Load data"
   ]
  },
  {
   "cell_type": "code",
   "execution_count": null,
   "outputs": [],
   "source": [
    "from pathlib import Path\n",
    "path = Path(__file__).parent.parent"
   ],
   "metadata": {
    "collapsed": false,
    "pycharm": {
     "name": "#%%\n"
    }
   }
  },
  {
   "cell_type": "code",
   "metadata": {
    "id": "alwKIHcvkw3t"
   },
   "source": [
    "# load dữ liệu từ file ratings train và test\n",
    "\n",
    "train = pd.read_csv(path + \"/training_data.csv\")\n",
    "test = pd.read_csv(path + \"/testing_data.csv\")\n",
    "\n",
    "food_information = pd.read_excel(path + \"/Food_description.xlsx\")"
   ],
   "execution_count": 2,
   "outputs": []
  },
  {
   "cell_type": "code",
   "metadata": {
    "colab": {
     "base_uri": "https://localhost:8080/",
     "height": 257
    },
    "id": "LKv3H5ZTvIxr",
    "executionInfo": {
     "status": "ok",
     "timestamp": 1640417824073,
     "user_tz": -420,
     "elapsed": 17,
     "user": {
      "displayName": "Tri Nguyen Duc",
      "photoUrl": "https://lh3.googleusercontent.com/a/default-user=s64",
      "userId": "11271696257689674804"
     }
    },
    "outputId": "64be5115-d617-4978-a8e8-280e6ca2fb04"
   },
   "source": [
    "food_information.head(3)"
   ],
   "execution_count": 3,
   "outputs": [
    {
     "data": {
      "text/plain": "  FoodID Tên món ăn                       Vùng miền  \\\n0     F1        Xôi  Miền Bắc, Miền Trung, Miền Nam   \n1     F2   Mì quảng                      Miền Trung   \n2     F3     Phở bò                        Miền Bắc   \n\n                                          Thành phần  \\\n0                 Gạo nếp, đậu xanh, Vừng, Đậu phộng   \n1   mì,nước lèo, thịt, tôm, cá, trứng , đậu phộng...   \n2  bánh phở, nước lèo, thịt bò, trứng chần, hành ...   \n\n  Thể loại (nướng, nước, khô, ...)  \\\n0                          Món khô   \n1                         Món nước   \n2                         Món nước   \n\n                           mô tả ngắn gọn ( <100 từ)  Unnamed: 6  \n0  Xôi được làm từ gạo nếp hấp chín bằng hơi nước...         NaN  \n1  Có nguồn gốc ở Quảng Nam, mì quảng là món mì s...         NaN  \n2  Món ăn nổi tiếng, được nhiều người ưu thích. Ă...         NaN  ",
      "text/html": "<div>\n<style scoped>\n    .dataframe tbody tr th:only-of-type {\n        vertical-align: middle;\n    }\n\n    .dataframe tbody tr th {\n        vertical-align: top;\n    }\n\n    .dataframe thead th {\n        text-align: right;\n    }\n</style>\n<table border=\"1\" class=\"dataframe\">\n  <thead>\n    <tr style=\"text-align: right;\">\n      <th></th>\n      <th>FoodID</th>\n      <th>Tên món ăn</th>\n      <th>Vùng miền</th>\n      <th>Thành phần</th>\n      <th>Thể loại (nướng, nước, khô, ...)</th>\n      <th>mô tả ngắn gọn ( &lt;100 từ)</th>\n      <th>Unnamed: 6</th>\n    </tr>\n  </thead>\n  <tbody>\n    <tr>\n      <th>0</th>\n      <td>F1</td>\n      <td>Xôi</td>\n      <td>Miền Bắc, Miền Trung, Miền Nam</td>\n      <td>Gạo nếp, đậu xanh, Vừng, Đậu phộng</td>\n      <td>Món khô</td>\n      <td>Xôi được làm từ gạo nếp hấp chín bằng hơi nước...</td>\n      <td>NaN</td>\n    </tr>\n    <tr>\n      <th>1</th>\n      <td>F2</td>\n      <td>Mì quảng</td>\n      <td>Miền Trung</td>\n      <td>mì,nước lèo, thịt, tôm, cá, trứng , đậu phộng...</td>\n      <td>Món nước</td>\n      <td>Có nguồn gốc ở Quảng Nam, mì quảng là món mì s...</td>\n      <td>NaN</td>\n    </tr>\n    <tr>\n      <th>2</th>\n      <td>F3</td>\n      <td>Phở bò</td>\n      <td>Miền Bắc</td>\n      <td>bánh phở, nước lèo, thịt bò, trứng chần, hành ...</td>\n      <td>Món nước</td>\n      <td>Món ăn nổi tiếng, được nhiều người ưu thích. Ă...</td>\n      <td>NaN</td>\n    </tr>\n  </tbody>\n</table>\n</div>"
     },
     "execution_count": 3,
     "metadata": {},
     "output_type": "execute_result"
    }
   ]
  },
  {
   "cell_type": "code",
   "metadata": {
    "colab": {
     "base_uri": "https://localhost:8080/",
     "height": 519
    },
    "id": "qGkZriahmMy2",
    "executionInfo": {
     "status": "ok",
     "timestamp": 1640417824727,
     "user_tz": -420,
     "elapsed": 668,
     "user": {
      "displayName": "Tri Nguyen Duc",
      "photoUrl": "https://lh3.googleusercontent.com/a/default-user=s64",
      "userId": "11271696257689674804"
     }
    },
    "outputId": "657babf6-7bcc-4fe2-cb0f-b18f282e27e3"
   },
   "source": [
    "from scipy.sparse import csr_matrix\n",
    "df_food = train.pivot(\n",
    "    index = 'UserID',\n",
    "    columns = 'FoodId',\n",
    "    values = 'rating'\n",
    ").fillna(0)\n",
    "\n",
    "df_food"
   ],
   "execution_count": 4,
   "outputs": [
    {
     "data": {
      "text/plain": "FoodId   F1  F10  F11  F12  F13  F14  F15  F16  F17  F18  ...  F28  F29   F3  \\\nUserID                                                    ...                  \nU1      0.0  0.0  4.0  0.0  3.0  0.0  0.0  0.0  0.0  4.0  ...  0.0  0.0  3.0   \nU10     0.0  0.0  4.0  3.0  0.0  0.0  4.0  4.0  0.0  3.0  ...  0.0  0.0  0.0   \nU100    0.0  5.0  0.0  3.0  0.0  0.0  0.0  0.0  0.0  1.0  ...  0.0  3.0  0.0   \nU101    0.0  0.0  0.0  0.0  0.0  3.0  0.0  2.0  0.0  2.0  ...  3.0  0.0  5.0   \nU102    0.0  2.0  3.0  0.0  2.0  0.0  0.0  0.0  0.0  2.0  ...  0.0  0.0  0.0   \n...     ...  ...  ...  ...  ...  ...  ...  ...  ...  ...  ...  ...  ...  ...   \nU95     0.0  0.0  5.0  3.0  0.0  0.0  4.0  1.0  0.0  2.0  ...  0.0  0.0  0.0   \nU96     0.0  0.0  4.0  0.0  2.0  0.0  0.0  0.0  0.0  4.0  ...  0.0  0.0  0.0   \nU97     5.0  5.0  0.0  5.0  0.0  3.0  0.0  0.0  3.0  5.0  ...  4.0  0.0  0.0   \nU98     0.0  0.0  4.0  3.0  0.0  0.0  4.0  3.0  0.0  3.0  ...  0.0  0.0  0.0   \nU99     0.0  0.0  4.0  1.0  0.0  0.0  5.0  5.0  0.0  2.0  ...  0.0  0.0  0.0   \n\nFoodId  F30   F4   F5   F6   F7   F8   F9  \nUserID                                     \nU1      0.0  0.0  2.0  0.0  0.0  5.0  0.0  \nU10     0.0  4.0  0.0  0.0  0.0  0.0  4.0  \nU100    0.0  0.0  0.0  0.0  2.0  0.0  3.0  \nU101    0.0  0.0  0.0  0.0  0.0  3.0  0.0  \nU102    4.0  0.0  2.0  2.0  5.0  0.0  0.0  \n...     ...  ...  ...  ...  ...  ...  ...  \nU95     0.0  4.0  0.0  0.0  0.0  0.0  5.0  \nU96     0.0  0.0  3.0  0.0  0.0  4.0  0.0  \nU97     3.0  0.0  0.0  0.0  0.0  0.0  3.0  \nU98     0.0  5.0  0.0  0.0  0.0  0.0  3.0  \nU99     0.0  5.0  0.0  0.0  0.0  0.0  4.0  \n\n[234 rows x 29 columns]",
      "text/html": "<div>\n<style scoped>\n    .dataframe tbody tr th:only-of-type {\n        vertical-align: middle;\n    }\n\n    .dataframe tbody tr th {\n        vertical-align: top;\n    }\n\n    .dataframe thead th {\n        text-align: right;\n    }\n</style>\n<table border=\"1\" class=\"dataframe\">\n  <thead>\n    <tr style=\"text-align: right;\">\n      <th>FoodId</th>\n      <th>F1</th>\n      <th>F10</th>\n      <th>F11</th>\n      <th>F12</th>\n      <th>F13</th>\n      <th>F14</th>\n      <th>F15</th>\n      <th>F16</th>\n      <th>F17</th>\n      <th>F18</th>\n      <th>...</th>\n      <th>F28</th>\n      <th>F29</th>\n      <th>F3</th>\n      <th>F30</th>\n      <th>F4</th>\n      <th>F5</th>\n      <th>F6</th>\n      <th>F7</th>\n      <th>F8</th>\n      <th>F9</th>\n    </tr>\n    <tr>\n      <th>UserID</th>\n      <th></th>\n      <th></th>\n      <th></th>\n      <th></th>\n      <th></th>\n      <th></th>\n      <th></th>\n      <th></th>\n      <th></th>\n      <th></th>\n      <th></th>\n      <th></th>\n      <th></th>\n      <th></th>\n      <th></th>\n      <th></th>\n      <th></th>\n      <th></th>\n      <th></th>\n      <th></th>\n      <th></th>\n    </tr>\n  </thead>\n  <tbody>\n    <tr>\n      <th>U1</th>\n      <td>0.0</td>\n      <td>0.0</td>\n      <td>4.0</td>\n      <td>0.0</td>\n      <td>3.0</td>\n      <td>0.0</td>\n      <td>0.0</td>\n      <td>0.0</td>\n      <td>0.0</td>\n      <td>4.0</td>\n      <td>...</td>\n      <td>0.0</td>\n      <td>0.0</td>\n      <td>3.0</td>\n      <td>0.0</td>\n      <td>0.0</td>\n      <td>2.0</td>\n      <td>0.0</td>\n      <td>0.0</td>\n      <td>5.0</td>\n      <td>0.0</td>\n    </tr>\n    <tr>\n      <th>U10</th>\n      <td>0.0</td>\n      <td>0.0</td>\n      <td>4.0</td>\n      <td>3.0</td>\n      <td>0.0</td>\n      <td>0.0</td>\n      <td>4.0</td>\n      <td>4.0</td>\n      <td>0.0</td>\n      <td>3.0</td>\n      <td>...</td>\n      <td>0.0</td>\n      <td>0.0</td>\n      <td>0.0</td>\n      <td>0.0</td>\n      <td>4.0</td>\n      <td>0.0</td>\n      <td>0.0</td>\n      <td>0.0</td>\n      <td>0.0</td>\n      <td>4.0</td>\n    </tr>\n    <tr>\n      <th>U100</th>\n      <td>0.0</td>\n      <td>5.0</td>\n      <td>0.0</td>\n      <td>3.0</td>\n      <td>0.0</td>\n      <td>0.0</td>\n      <td>0.0</td>\n      <td>0.0</td>\n      <td>0.0</td>\n      <td>1.0</td>\n      <td>...</td>\n      <td>0.0</td>\n      <td>3.0</td>\n      <td>0.0</td>\n      <td>0.0</td>\n      <td>0.0</td>\n      <td>0.0</td>\n      <td>0.0</td>\n      <td>2.0</td>\n      <td>0.0</td>\n      <td>3.0</td>\n    </tr>\n    <tr>\n      <th>U101</th>\n      <td>0.0</td>\n      <td>0.0</td>\n      <td>0.0</td>\n      <td>0.0</td>\n      <td>0.0</td>\n      <td>3.0</td>\n      <td>0.0</td>\n      <td>2.0</td>\n      <td>0.0</td>\n      <td>2.0</td>\n      <td>...</td>\n      <td>3.0</td>\n      <td>0.0</td>\n      <td>5.0</td>\n      <td>0.0</td>\n      <td>0.0</td>\n      <td>0.0</td>\n      <td>0.0</td>\n      <td>0.0</td>\n      <td>3.0</td>\n      <td>0.0</td>\n    </tr>\n    <tr>\n      <th>U102</th>\n      <td>0.0</td>\n      <td>2.0</td>\n      <td>3.0</td>\n      <td>0.0</td>\n      <td>2.0</td>\n      <td>0.0</td>\n      <td>0.0</td>\n      <td>0.0</td>\n      <td>0.0</td>\n      <td>2.0</td>\n      <td>...</td>\n      <td>0.0</td>\n      <td>0.0</td>\n      <td>0.0</td>\n      <td>4.0</td>\n      <td>0.0</td>\n      <td>2.0</td>\n      <td>2.0</td>\n      <td>5.0</td>\n      <td>0.0</td>\n      <td>0.0</td>\n    </tr>\n    <tr>\n      <th>...</th>\n      <td>...</td>\n      <td>...</td>\n      <td>...</td>\n      <td>...</td>\n      <td>...</td>\n      <td>...</td>\n      <td>...</td>\n      <td>...</td>\n      <td>...</td>\n      <td>...</td>\n      <td>...</td>\n      <td>...</td>\n      <td>...</td>\n      <td>...</td>\n      <td>...</td>\n      <td>...</td>\n      <td>...</td>\n      <td>...</td>\n      <td>...</td>\n      <td>...</td>\n      <td>...</td>\n    </tr>\n    <tr>\n      <th>U95</th>\n      <td>0.0</td>\n      <td>0.0</td>\n      <td>5.0</td>\n      <td>3.0</td>\n      <td>0.0</td>\n      <td>0.0</td>\n      <td>4.0</td>\n      <td>1.0</td>\n      <td>0.0</td>\n      <td>2.0</td>\n      <td>...</td>\n      <td>0.0</td>\n      <td>0.0</td>\n      <td>0.0</td>\n      <td>0.0</td>\n      <td>4.0</td>\n      <td>0.0</td>\n      <td>0.0</td>\n      <td>0.0</td>\n      <td>0.0</td>\n      <td>5.0</td>\n    </tr>\n    <tr>\n      <th>U96</th>\n      <td>0.0</td>\n      <td>0.0</td>\n      <td>4.0</td>\n      <td>0.0</td>\n      <td>2.0</td>\n      <td>0.0</td>\n      <td>0.0</td>\n      <td>0.0</td>\n      <td>0.0</td>\n      <td>4.0</td>\n      <td>...</td>\n      <td>0.0</td>\n      <td>0.0</td>\n      <td>0.0</td>\n      <td>0.0</td>\n      <td>0.0</td>\n      <td>3.0</td>\n      <td>0.0</td>\n      <td>0.0</td>\n      <td>4.0</td>\n      <td>0.0</td>\n    </tr>\n    <tr>\n      <th>U97</th>\n      <td>5.0</td>\n      <td>5.0</td>\n      <td>0.0</td>\n      <td>5.0</td>\n      <td>0.0</td>\n      <td>3.0</td>\n      <td>0.0</td>\n      <td>0.0</td>\n      <td>3.0</td>\n      <td>5.0</td>\n      <td>...</td>\n      <td>4.0</td>\n      <td>0.0</td>\n      <td>0.0</td>\n      <td>3.0</td>\n      <td>0.0</td>\n      <td>0.0</td>\n      <td>0.0</td>\n      <td>0.0</td>\n      <td>0.0</td>\n      <td>3.0</td>\n    </tr>\n    <tr>\n      <th>U98</th>\n      <td>0.0</td>\n      <td>0.0</td>\n      <td>4.0</td>\n      <td>3.0</td>\n      <td>0.0</td>\n      <td>0.0</td>\n      <td>4.0</td>\n      <td>3.0</td>\n      <td>0.0</td>\n      <td>3.0</td>\n      <td>...</td>\n      <td>0.0</td>\n      <td>0.0</td>\n      <td>0.0</td>\n      <td>0.0</td>\n      <td>5.0</td>\n      <td>0.0</td>\n      <td>0.0</td>\n      <td>0.0</td>\n      <td>0.0</td>\n      <td>3.0</td>\n    </tr>\n    <tr>\n      <th>U99</th>\n      <td>0.0</td>\n      <td>0.0</td>\n      <td>4.0</td>\n      <td>1.0</td>\n      <td>0.0</td>\n      <td>0.0</td>\n      <td>5.0</td>\n      <td>5.0</td>\n      <td>0.0</td>\n      <td>2.0</td>\n      <td>...</td>\n      <td>0.0</td>\n      <td>0.0</td>\n      <td>0.0</td>\n      <td>0.0</td>\n      <td>5.0</td>\n      <td>0.0</td>\n      <td>0.0</td>\n      <td>0.0</td>\n      <td>0.0</td>\n      <td>4.0</td>\n    </tr>\n  </tbody>\n</table>\n<p>234 rows × 29 columns</p>\n</div>"
     },
     "execution_count": 4,
     "metadata": {},
     "output_type": "execute_result"
    }
   ]
  },
  {
   "cell_type": "markdown",
   "metadata": {
    "id": "2JuJsEvH28Nq"
   },
   "source": [
    "# Một vài hàm lấy dữ liệu"
   ]
  },
  {
   "cell_type": "code",
   "metadata": {
    "id": "UAUcUc8B2_qh"
   },
   "source": [
    "def get_rating(userid, foodid):\n",
    "    return (train.loc[((train.UserID== userid)&(train.FoodId== foodid)), 'rating'].iloc[0])\n",
    "#------------------------\n",
    "def get_foodid(userid): \n",
    "    return (train.loc[(train.UserID==userid), 'FoodId'].tolist())\n",
    "#----------------------\n",
    "def get_userid(foodid): \n",
    "    return (train.loc[(train.FoodId==foodid), 'UserID'].tolist())\n",
    "#------------------------\n",
    "def get_food_title(foodid):\n",
    "    return (food_information.loc[(food_information.FoodID==foodid), 'Tên món ăn'].iloc[0])\n",
    "#------------------------\n",
    "def get_average_rating(userid):\n",
    "    rating_user = train.loc[((train.UserID== userid)), 'rating']\n",
    "    return np.mean(rating_user)\n",
    "#-----------------------\n",
    "def get_average_rating_food(foodid):\n",
    "    rating_food = train.loc[((train.FoodId== foodid)), 'rating']\n",
    "    return np.mean(rating_food)"
   ],
   "execution_count": 6,
   "outputs": []
  },
  {
   "cell_type": "code",
   "source": [
    "average_rating_userid = {}\n",
    "for i in train[\"UserID\"].unique():\n",
    "    average_rating_userid[i]=get_average_rating(i)"
   ],
   "metadata": {
    "id": "IFzGECWW0d0_"
   },
   "execution_count": 7,
   "outputs": []
  },
  {
   "cell_type": "code",
   "source": [
    "average_rating_userid.items()"
   ],
   "metadata": {
    "colab": {
     "base_uri": "https://localhost:8080/"
    },
    "id": "jCExhrz41BOu",
    "executionInfo": {
     "status": "ok",
     "timestamp": 1640417824732,
     "user_tz": -420,
     "elapsed": 35,
     "user": {
      "displayName": "Tri Nguyen Duc",
      "photoUrl": "https://lh3.googleusercontent.com/a/default-user=s64",
      "userId": "11271696257689674804"
     }
    },
    "outputId": "be736259-e8ac-42df-f20e-1a975a0c9ff8"
   },
   "execution_count": 8,
   "outputs": [
    {
     "data": {
      "text/plain": "dict_items([('U112', 4.0), ('U130', 3.3333333333333335), ('U120', 3.111111111111111), ('U170', 3.1), ('U92', 3.375), ('U56', 5.0), ('U20', 3.6), ('U25', 3.1), ('U184', 3.5555555555555554), ('U129', 3.8), ('U1', 3.0), ('U94', 3.9), ('U57', 3.5714285714285716), ('U102', 3.0), ('U76', 3.4), ('U119', 3.5), ('U152', 4.0), ('U162', 3.111111111111111), ('U153', 3.4), ('U156', 4.0), ('U176', 3.4), ('U110', 4.0), ('U163', 4.2), ('U136', 3.7), ('U125', 4.4), ('U4', 3.5), ('U131', 3.3333333333333335), ('U166', 3.888888888888889), ('U15', 4.8), ('U142', 3.3), ('U52', 3.6), ('U231', 3.4), ('U23', 3.4), ('U49', 3.7), ('U164', 3.7), ('U221', 3.0), ('U202', 5.0), ('U67', 3.8), ('U207', 3.7), ('U177', 3.375), ('U200', 3.9), ('U109', 4.4), ('U160', 3.5), ('U91', 3.9), ('U101', 3.3), ('U39', 5.0), ('U65', 3.7), ('U40', 3.75), ('U3', 3.2), ('U29', 3.888888888888889), ('U124', 3.3333333333333335), ('U62', 3.7777777777777777), ('U46', 2.6666666666666665), ('U143', 3.5555555555555554), ('U14', 3.4444444444444446), ('U79', 2.9), ('U98', 3.6666666666666665), ('U169', 4.333333333333333), ('U219', 3.7), ('U191', 3.0), ('U43', 3.8), ('U60', 4.2), ('U222', 3.5), ('U100', 3.2222222222222223), ('U188', 4.5), ('U205', 3.7), ('U11', 3.6), ('U51', 3.3333333333333335), ('U27', 3.7), ('U212', 3.9), ('U8', 4.333333333333333), ('U37', 3.4), ('U132', 3.4), ('U171', 2.8), ('U137', 4.2), ('U206', 4.0), ('U73', 4.0), ('U216', 3.625), ('U28', 3.5), ('U111', 3.3333333333333335), ('U58', 2.857142857142857), ('U108', 4.2), ('U41', 3.7777777777777777), ('U185', 2.7), ('U158', 3.5555555555555554), ('U215', 3.7), ('U133', 4.5), ('U90', 3.888888888888889), ('U218', 4.2), ('U149', 3.6666666666666665), ('U48', 3.4), ('U228', 3.7), ('U172', 3.5555555555555554), ('U190', 4.222222222222222), ('U145', 3.3), ('U2', 2.888888888888889), ('U33', 3.7), ('U196', 4.4), ('U161', 3.7), ('U82', 3.7), ('U31', 3.1), ('U194', 4.0), ('U26', 3.7777777777777777), ('U168', 2.9), ('U123', 4.1), ('U189', 3.5), ('U114', 2.9), ('U179', 4.0), ('U146', 3.5), ('U103', 3.888888888888889), ('U54', 4.111111111111111), ('U199', 4.222222222222222), ('U45', 4.333333333333333), ('U85', 3.7777777777777777), ('U38', 3.6), ('U12', 4.9), ('U5', 3.8), ('U141', 3.5), ('U117', 3.5), ('U150', 3.3), ('U220', 4.2), ('U106', 3.111111111111111), ('U113', 3.1), ('U34', 3.3), ('U197', 4.111111111111111), ('U167', 4.111111111111111), ('U86', 3.7), ('U192', 3.4), ('U95', 3.9), ('U204', 3.8), ('U21', 3.2), ('U61', 3.9), ('U232', 3.4), ('U80', 3.6666666666666665), ('U180', 3.875), ('U74', 2.9), ('U217', 4.1), ('U182', 3.7), ('U223', 4.0), ('U97', 3.9), ('U127', 4.0), ('U147', 3.0), ('U134', 4.333333333333333), ('U47', 4.0), ('U16', 3.5555555555555554), ('U66', 3.0), ('U121', 5.0), ('U30', 3.8), ('U18', 3.1), ('U159', 4.1), ('U234', 4.0), ('U208', 3.9), ('U174', 2.9), ('U201', 3.5), ('U154', 3.3), ('U148', 3.5555555555555554), ('U128', 4.222222222222222), ('U77', 4.111111111111111), ('U181', 4.3), ('U99', 3.888888888888889), ('U84', 3.8), ('U224', 3.125), ('U44', 3.6), ('U115', 4.7), ('U151', 3.5), ('U53', 3.6), ('U72', 4.0), ('U75', 3.888888888888889), ('U88', 4.5), ('U69', 3.625), ('U81', 4.2), ('U71', 2.5), ('U78', 2.9), ('U213', 3.7), ('U233', 3.6666666666666665), ('U36', 3.3), ('U116', 3.5), ('U229', 3.4), ('U225', 3.0), ('U17', 3.3333333333333335), ('U83', 3.4444444444444446), ('U195', 4.3), ('U211', 3.8), ('U135', 3.7777777777777777), ('U118', 3.7), ('U144', 3.3), ('U210', 4.111111111111111), ('U35', 3.5), ('U187', 3.2), ('U107', 3.7777777777777777), ('U173', 3.4444444444444446), ('U68', 2.9), ('U22', 4.0), ('U203', 2.8), ('U9', 4.2), ('U93', 4.1), ('U24', 3.8), ('U230', 3.4444444444444446), ('U104', 4.666666666666667), ('U96', 3.4444444444444446), ('U183', 3.8), ('U226', 3.888888888888889), ('U227', 3.4444444444444446), ('U138', 4.444444444444445), ('U126', 3.4444444444444446), ('U175', 3.5555555555555554), ('U64', 3.0), ('U105', 3.4), ('U139', 4.3), ('U89', 3.8), ('U209', 4.1), ('U50', 3.7), ('U32', 3.125), ('U19', 2.888888888888889), ('U193', 3.7777777777777777), ('U214', 3.6666666666666665), ('U55', 2.4444444444444446), ('U63', 4.333333333333333), ('U198', 3.3333333333333335), ('U7', 3.4444444444444446), ('U10', 3.6666666666666665), ('U186', 3.4444444444444446), ('U122', 3.6666666666666665), ('U59', 3.5), ('U6', 4.5), ('U70', 3.2), ('U178', 4.4), ('U87', 3.6666666666666665), ('U13', 3.6666666666666665), ('U42', 4.111111111111111), ('U140', 3.3), ('U155', 3.2222222222222223), ('U165', 2.8), ('U157', 3.4)])"
     },
     "execution_count": 8,
     "metadata": {},
     "output_type": "execute_result"
    }
   ]
  },
  {
   "cell_type": "markdown",
   "metadata": {
    "id": "6w2sU3iCm2qQ"
   },
   "source": [
    "# Các hàm tính độ tương tự "
   ]
  },
  {
   "cell_type": "markdown",
   "metadata": {
    "id": "yFsPcPyznCR-"
   },
   "source": [
    "## Độ đo Cosine"
   ]
  },
  {
   "cell_type": "code",
   "metadata": {
    "id": "W5ylXdHa7mjY"
   },
   "source": [
    "def cosine_similarity_item(food1, food2):\n",
    "    both_watch_count = 0\n",
    "    for userid in train.loc[train.FoodId == food1, 'UserID'].to_list():\n",
    "        for userid in train.loc[train.FoodId == food2, 'UserID'].tolist():\n",
    "            both_watch_count +=1\n",
    "    if both_watch_count == 0:\n",
    "        return 0\n",
    "\n",
    "    rating1 = []\n",
    "    rating2 = []\n",
    "\n",
    "    for userid in train.loc[train.FoodId == food1, 'UserID'].to_list():\n",
    "        if userid in train.loc[train.FoodId == food2, 'UserID'].tolist():\n",
    "            rating1.append(get_rating(userid, food1))\n",
    "            rating2.append(get_rating(userid, food2))\n",
    "\n",
    "    if (norm(rating1)*norm(rating2)) == 0:\n",
    "        return 0\n",
    "    return dot(rating1, rating2)/(norm(rating1)*norm(rating2))"
   ],
   "execution_count": 9,
   "outputs": []
  },
  {
   "cell_type": "code",
   "metadata": {
    "colab": {
     "base_uri": "https://localhost:8080/"
    },
    "id": "5fLSwlGrphzg",
    "executionInfo": {
     "status": "ok",
     "timestamp": 1640417824734,
     "user_tz": -420,
     "elapsed": 21,
     "user": {
      "displayName": "Tri Nguyen Duc",
      "photoUrl": "https://lh3.googleusercontent.com/a/default-user=s64",
      "userId": "11271696257689674804"
     }
    },
    "outputId": "d278effd-01a0-448d-b37c-4190833eaf7c"
   },
   "source": [
    "cosine_similarity_item(\"F1\", \"F10\")"
   ],
   "execution_count": 10,
   "outputs": [
    {
     "data": {
      "text/plain": "0.9668074931897049"
     },
     "execution_count": 10,
     "metadata": {},
     "output_type": "execute_result"
    }
   ]
  },
  {
   "cell_type": "markdown",
   "metadata": {
    "id": "0nAUtFjjquU1"
   },
   "source": [
    "## Độ đo tương tự Pearson"
   ]
  },
  {
   "cell_type": "code",
   "metadata": {
    "id": "TQiV6IyA77Bc"
   },
   "source": [
    "def pearson_correlation_item(food1, food2):\n",
    "    both_watch_count = []\n",
    "    for userid in train.loc[(train.FoodId == food1), 'UserID'].tolist():\n",
    "        if userid in train.loc[(train.FoodId == food2), 'UserID'].tolist():\n",
    "            both_watch_count.append(userid)\n",
    "    if len(both_watch_count) == 0:\n",
    "        return 0\n",
    "    rating_sum_1 = sum([get_rating(userid, food1) for userid in both_watch_count])\n",
    "    avg_rating_sum_1 = rating_sum_1/len(both_watch_count)\n",
    "\n",
    "    rating_sum_2 = sum([get_rating(userid, food2) for userid in both_watch_count])\n",
    "    avg_rating_sum_2 = rating_sum_2/len(both_watch_count)\n",
    "\n",
    "    #Gia tri tren tu\n",
    "    numerator = sum([(get_rating(userid, food1)- avg_rating_sum_1)*(get_rating(userid, food2) - avg_rating_sum_2) for userid in both_watch_count])\n",
    "    denominator = sqrt(sum([pow((get_rating(userid, food1) - avg_rating_sum_1), 2) for userid in both_watch_count]))*sqrt(sum([pow((get_rating(userid, food2) - avg_rating_sum_2), 2) for userid in both_watch_count]))\n",
    "    if denominator == 0:\n",
    "        return 0\n",
    "    return numerator/denominator"
   ],
   "execution_count": 11,
   "outputs": []
  },
  {
   "cell_type": "code",
   "metadata": {
    "colab": {
     "base_uri": "https://localhost:8080/"
    },
    "id": "j8XqzyRG9LBW",
    "executionInfo": {
     "status": "ok",
     "timestamp": 1640417825350,
     "user_tz": -420,
     "elapsed": 631,
     "user": {
      "displayName": "Tri Nguyen Duc",
      "photoUrl": "https://lh3.googleusercontent.com/a/default-user=s64",
      "userId": "11271696257689674804"
     }
    },
    "outputId": "ff58e71f-3bfb-4716-e925-435981c1c151"
   },
   "source": [
    "pearson_correlation_item(\"F1\", \"F7\")"
   ],
   "execution_count": 12,
   "outputs": [
    {
     "data": {
      "text/plain": "0.09688200325771523"
     },
     "execution_count": 12,
     "metadata": {},
     "output_type": "execute_result"
    }
   ]
  },
  {
   "cell_type": "markdown",
   "metadata": {
    "id": "ZPVSf2JAse-3"
   },
   "source": [
    "# Hàm tính top k món ăn có độ tương đồng "
   ]
  },
  {
   "cell_type": "code",
   "metadata": {
    "id": "ZER_MM2B9dVQ"
   },
   "source": [
    "def get_similarity_item(food1, number_of_food, metric_similar):\n",
    "    food_ids = train.FoodId.unique().tolist()\n",
    "\n",
    "    similarity_score = []\n",
    "    for foodID in food_ids:\n",
    "        if (foodID != food1):\n",
    "            if (metric_similar == \"cosine\"):\n",
    "                similarity_score.append((cosine_similarity_item(food1, foodID), foodID))\n",
    "            elif (metric_similar == \"pearson\"):\n",
    "                similarity_score.append((pearson_correlation_item(food1, foodID), foodID))\n",
    "    similarity_score.sort()\n",
    "    similarity_score.reverse()\n",
    "    return similarity_score[:number_of_food]"
   ],
   "execution_count": 13,
   "outputs": []
  },
  {
   "cell_type": "code",
   "metadata": {
    "colab": {
     "base_uri": "https://localhost:8080/"
    },
    "id": "V7z1dO_q98Iu",
    "executionInfo": {
     "status": "ok",
     "timestamp": 1640417833107,
     "user_tz": -420,
     "elapsed": 7761,
     "user": {
      "displayName": "Tri Nguyen Duc",
      "photoUrl": "https://lh3.googleusercontent.com/a/default-user=s64",
      "userId": "11271696257689674804"
     }
    },
    "outputId": "aaf16212-098f-4483-b52e-113ba240dd65"
   },
   "source": [
    "get_similarity_item(\"F10\", 10, \"pearson\")"
   ],
   "execution_count": 14,
   "outputs": [
    {
     "data": {
      "text/plain": "[(0.5466013526519906, 'F13'),\n (0.40446703212056356, 'F1'),\n (0.2694897223241833, 'F14'),\n (0.26444369362040315, 'F12'),\n (0.2518518518518519, 'F21'),\n (0.21146551050154147, 'F19'),\n (0.16931613528531078, 'F28'),\n (0.16217710142169822, 'F27'),\n (0.10239842231794327, 'F11'),\n (0.0569646690369124, 'F18')]"
     },
     "execution_count": 14,
     "metadata": {},
     "output_type": "execute_result"
    }
   ]
  },
  {
   "cell_type": "markdown",
   "metadata": {
    "id": "2w0ykcLHxxZp"
   },
   "source": [
    "# Hàm khuyến nghị món ăn"
   ]
  },
  {
   "cell_type": "markdown",
   "metadata": {
    "id": "zaaIfy985VT9"
   },
   "source": [
    "## Khuyến nghị dựa trên trung bình đánh giá"
   ]
  },
  {
   "cell_type": "code",
   "metadata": {
    "id": "5c-Cmxeh5aNq"
   },
   "source": [
    "def get_recommendation_tbdg_item(foodid, number_of_food, metric_similar):\n",
    "    food_ids = train.FoodId.unique().tolist()\n",
    "    total = {}\n",
    "    number_rating = {}\n",
    "    List_similar = get_similarity_item(foodid, number_of_food, metric_similar)\n",
    "    for peason, food in List_similar:\n",
    "        for userid in get_userid(food):\n",
    "            if userid not in get_userid(foodid) or get_rating(userid, foodid) == 0:\n",
    "                if userid not in total:\n",
    "                    total[userid] = 0\n",
    "                    number_rating[userid] = 0\n",
    "                    total[userid] += get_rating(userid, food)\n",
    "                    if get_rating(userid, food) != 0:\n",
    "                        number_rating[userid] +=1\n",
    "                else:\n",
    "                    total[userid] += get_rating(userid, food)\n",
    "                    if get_rating(userid, food) != 0:\n",
    "                        number_rating[userid] +=1\n",
    "                \n",
    "    ranking = [(to/number_rating[userid], userid) for userid, to in total.items()]\n",
    "    ranking.sort()\n",
    "    ranking.reverse()\n",
    "\n",
    "    recomendations = [(userid, score) for score, userid in ranking]\n",
    "\n",
    "    return recomendations"
   ],
   "execution_count": 15,
   "outputs": []
  },
  {
   "cell_type": "markdown",
   "metadata": {
    "id": "YZbLV4Hm1uks"
   },
   "source": [
    "## Khuyến nghị dựa theo trung bình đánh giá có trọng số"
   ]
  },
  {
   "cell_type": "code",
   "metadata": {
    "id": "VUOO6EHC-uL8"
   },
   "source": [
    "def get_recommendation_tbdgcts_item(foodid, number_of_food, metric_similar):\n",
    "    food_ids = train.FoodId.unique().tolist()\n",
    "    total = {}\n",
    "    similarity_sum = {}\n",
    "    List_similar = get_similarity_item(foodid, number_of_food, metric_similar)\n",
    "    for peason, food in List_similar:\n",
    "        score = peason\n",
    "        for userid in get_userid(food):\n",
    "            if userid not in get_userid(foodid) or get_rating(userid, foodid) == 0:\n",
    "                if userid not in total:\n",
    "                    total[userid] = 0\n",
    "                    total[userid] += get_rating(userid, food)*score\n",
    "                    similarity_sum [userid] = 0\n",
    "                    similarity_sum [userid] +=score\n",
    "                else:\n",
    "                    total[userid] += get_rating(userid, food)*score\n",
    "                    similarity_sum [userid] +=score\n",
    "                \n",
    "    ranking = [(to/similarity_sum[userid], userid) for userid, to in total.items()]\n",
    "    ranking.sort()\n",
    "    ranking.reverse()\n",
    "\n",
    "    recomendations = [(userid, score) for score, userid in ranking]\n",
    "\n",
    "    return recomendations"
   ],
   "execution_count": 16,
   "outputs": []
  },
  {
   "cell_type": "markdown",
   "metadata": {
    "id": "HfB0qP8j6qnj"
   },
   "source": [
    "## Khuyến nghị dựa trên khoảng đánh giá"
   ]
  },
  {
   "cell_type": "code",
   "metadata": {
    "id": "ddIGNLryAQRC"
   },
   "source": [
    "def get_recommendation_kdg_item(foodid, number_of_food, metric_similar):\n",
    "    total = {}\n",
    "    similarity_sum = {}\n",
    "    List_similar = get_similarity_item(foodid, number_of_food, metric_similar)\n",
    "    for peason, food in List_similar:\n",
    "        score = peason\n",
    "        for userid in get_userid(food):\n",
    "            if userid not in get_userid(foodid) or get_rating(userid, foodid) == 0:\n",
    "                if userid not in total:\n",
    "                    total[userid] = 0\n",
    "                    total[userid] += (get_rating(userid, food) - get_average_rating_food(food))*score\n",
    "                    similarity_sum [userid] = 0\n",
    "                    similarity_sum [userid] +=score\n",
    "                else:\n",
    "                    total[userid] += (get_rating(userid, food) - get_average_rating_food(food))*score\n",
    "                    similarity_sum [userid] +=score\n",
    "                \n",
    "    ranking = [((get_average_rating_food(foodid) + to/similarity_sum[userid]), userid) for userid, to in total.items()]\n",
    "    ranking.sort()\n",
    "    ranking.reverse()\n",
    "\n",
    "    recomendations = [(userid, score) for score, userid in ranking]\n",
    "\n",
    "    return recomendations"
   ],
   "execution_count": 17,
   "outputs": []
  },
  {
   "cell_type": "markdown",
   "metadata": {
    "id": "ArKbaJ5yDG6e"
   },
   "source": [
    "## Khuyến nghị món ăn"
   ]
  },
  {
   "cell_type": "code",
   "metadata": {
    "id": "jPRF5uLY_1Hb"
   },
   "source": [
    "def get_recommendation_item(userid, number_of_food, metrics_rating, metric_similar):\n",
    "    if userid not in list(train[\"FoodId\"].unique()):\n",
    "        ranking = [(to, userid) for userid, to in average_rating_userid.items()]\n",
    "        ranking.sort()\n",
    "        ranking.reverse()\n",
    "        recomendations = [(userid, score) for score, userid in ranking]\n",
    "        return recomendations\n",
    "    if (metrics_rating == \"tbdg\"):\n",
    "        recomendations = get_recommendation_tbdg_item(userid, number_of_food, metric_similar)\n",
    "        return recomendations\n",
    "    elif (metrics_rating == \"tbdgcts\"):\n",
    "        recomendations = get_recommendation_tbdgcts_item(userid, number_of_food, metric_similar)\n",
    "        return recomendations\n",
    "    elif (metrics_rating == \"kdg\"):\n",
    "        recomendations = get_recommendation_kdg_item(userid, number_of_food, metric_similar)\n",
    "        return recomendations"
   ],
   "execution_count": 18,
   "outputs": []
  },
  {
   "cell_type": "code",
   "metadata": {
    "id": "bGdFcHeewSQ7"
   },
   "source": [
    "food = \"F7\"\n",
    "number_of_food = 10\n",
    "metrics_rating = \"kdg\" # 1 trong 3 [\"tbdg\", \"tbdgctg\", \"kdg\"]\n",
    "metrics_similar = \"cosine\" # 1 trong 2 [\"cosine\", \"peason\"]\n",
    "food_recommend = get_recommendation_item(food, number_of_food, metrics_rating, metrics_similar)"
   ],
   "execution_count": 19,
   "outputs": []
  },
  {
   "cell_type": "markdown",
   "metadata": {
    "id": "gqdFiGvLx4rp"
   },
   "source": [
    "# Đánh giá phương pháp"
   ]
  },
  {
   "cell_type": "code",
   "metadata": {
    "id": "PsRhCp7XwTN2"
   },
   "source": [
    "def get_recommendation_4test_item(X_test, number_of_food, metrics_rating, metric_similar):\n",
    "    X_test_pred = []\n",
    "    X_test_userid = X_test['UserID'].tolist()\n",
    "    X_test_FoodId = X_test['FoodId'].tolist()\n",
    "    print(\"Dự đoán cho tập test với {} điểm dữ liệu\".format(len(X_test_FoodId)))\n",
    "    for i in range(len(X_test_FoodId)):\n",
    "        list_R = get_recommendation_item(X_test_FoodId[i], number_of_food, metrics_rating, metrics_similar)\n",
    "        check = 0\n",
    "        for j in list_R:\n",
    "            if(X_test_userid[i] == j[0]):\n",
    "                X_test_pred.append(j[1])\n",
    "                check = 1\n",
    "        if(check == 0 ):\n",
    "            X_test_pred.append(0)\n",
    "        print('----------dự đoán cho dòng thứ {}'.format(i), 'là {}'.format(X_test_pred[i]))\n",
    "    return X_test_pred"
   ],
   "execution_count": 20,
   "outputs": []
  },
  {
   "cell_type": "markdown",
   "metadata": {
    "id": "sAx2WM2SEYBn"
   },
   "source": [
    "## Dự đoán bằng pp TBDGCTS và cosine"
   ]
  },
  {
   "cell_type": "code",
   "metadata": {
    "id": "4XFtEO5HJW4D"
   },
   "source": [
    "import time\n",
    "from sklearn.metrics import f1_score, precision_score, recall_score"
   ],
   "execution_count": 21,
   "outputs": []
  },
  {
   "cell_type": "code",
   "metadata": {
    "colab": {
     "base_uri": "https://localhost:8080/"
    },
    "id": "KNX837-SykUE",
    "executionInfo": {
     "status": "ok",
     "timestamp": 1640418389790,
     "user_tz": -420,
     "elapsed": 551235,
     "user": {
      "displayName": "Tri Nguyen Duc",
      "photoUrl": "https://lh3.googleusercontent.com/a/default-user=s64",
      "userId": "11271696257689674804"
     }
    },
    "outputId": "bcf51538-59e5-493c-9ef5-c5e956edd80d"
   },
   "source": [
    "start = time.time()\n",
    "number_similar = 10\n",
    "metrics_rating = \"tbdgcts\" # 1 trong 3 [\"tbdg\", \"tbdgctg\", \"kdg\"]\n",
    "metrics_similar = \"cosine\" # 1 trong 2 [\"cosine\", \"peason\"]\n",
    "X_test_pred_rating = get_recommendation_4test_item(test, number_similar, metrics_rating, metrics_similar)\n",
    "\n",
    "end = time.time()\n",
    "\n",
    "print(\"Tổng thời gian dự đoán :\", end - start)"
   ],
   "execution_count": 22,
   "outputs": [
    {
     "name": "stdout",
     "output_type": "stream",
     "text": [
      "Dự đoán cho tập test với 117 điểm dữ liệu\n",
      "----------dự đoán cho dòng thứ 0 là 3.75051640238175\n"
     ]
    },
    {
     "ename": "KeyboardInterrupt",
     "evalue": "",
     "output_type": "error",
     "traceback": [
      "\u001B[1;31m---------------------------------------------------------------------------\u001B[0m",
      "\u001B[1;31mKeyboardInterrupt\u001B[0m                         Traceback (most recent call last)",
      "\u001B[1;32m~\\AppData\\Local\\Temp/ipykernel_16212/3998662858.py\u001B[0m in \u001B[0;36m<module>\u001B[1;34m\u001B[0m\n\u001B[0;32m      3\u001B[0m \u001B[0mmetrics_rating\u001B[0m \u001B[1;33m=\u001B[0m \u001B[1;34m\"tbdgcts\"\u001B[0m \u001B[1;31m# 1 trong 3 [\"tbdg\", \"tbdgctg\", \"kdg\"]\u001B[0m\u001B[1;33m\u001B[0m\u001B[1;33m\u001B[0m\u001B[0m\n\u001B[0;32m      4\u001B[0m \u001B[0mmetrics_similar\u001B[0m \u001B[1;33m=\u001B[0m \u001B[1;34m\"cosine\"\u001B[0m \u001B[1;31m# 1 trong 2 [\"cosine\", \"peason\"]\u001B[0m\u001B[1;33m\u001B[0m\u001B[1;33m\u001B[0m\u001B[0m\n\u001B[1;32m----> 5\u001B[1;33m \u001B[0mX_test_pred_rating\u001B[0m \u001B[1;33m=\u001B[0m \u001B[0mget_recommendation_4test_item\u001B[0m\u001B[1;33m(\u001B[0m\u001B[0mtest\u001B[0m\u001B[1;33m,\u001B[0m \u001B[0mnumber_similar\u001B[0m\u001B[1;33m,\u001B[0m \u001B[0mmetrics_rating\u001B[0m\u001B[1;33m,\u001B[0m \u001B[0mmetrics_similar\u001B[0m\u001B[1;33m)\u001B[0m\u001B[1;33m\u001B[0m\u001B[1;33m\u001B[0m\u001B[0m\n\u001B[0m\u001B[0;32m      6\u001B[0m \u001B[1;33m\u001B[0m\u001B[0m\n\u001B[0;32m      7\u001B[0m \u001B[0mend\u001B[0m \u001B[1;33m=\u001B[0m \u001B[0mtime\u001B[0m\u001B[1;33m.\u001B[0m\u001B[0mtime\u001B[0m\u001B[1;33m(\u001B[0m\u001B[1;33m)\u001B[0m\u001B[1;33m\u001B[0m\u001B[1;33m\u001B[0m\u001B[0m\n",
      "\u001B[1;32m~\\AppData\\Local\\Temp/ipykernel_16212/788192391.py\u001B[0m in \u001B[0;36mget_recommendation_4test_item\u001B[1;34m(X_test, number_of_food, metrics_rating, metric_similar)\u001B[0m\n\u001B[0;32m      5\u001B[0m     \u001B[0mprint\u001B[0m\u001B[1;33m(\u001B[0m\u001B[1;34m\"Dự đoán cho tập test với {} điểm dữ liệu\"\u001B[0m\u001B[1;33m.\u001B[0m\u001B[0mformat\u001B[0m\u001B[1;33m(\u001B[0m\u001B[0mlen\u001B[0m\u001B[1;33m(\u001B[0m\u001B[0mX_test_FoodId\u001B[0m\u001B[1;33m)\u001B[0m\u001B[1;33m)\u001B[0m\u001B[1;33m)\u001B[0m\u001B[1;33m\u001B[0m\u001B[1;33m\u001B[0m\u001B[0m\n\u001B[0;32m      6\u001B[0m     \u001B[1;32mfor\u001B[0m \u001B[0mi\u001B[0m \u001B[1;32min\u001B[0m \u001B[0mrange\u001B[0m\u001B[1;33m(\u001B[0m\u001B[0mlen\u001B[0m\u001B[1;33m(\u001B[0m\u001B[0mX_test_FoodId\u001B[0m\u001B[1;33m)\u001B[0m\u001B[1;33m)\u001B[0m\u001B[1;33m:\u001B[0m\u001B[1;33m\u001B[0m\u001B[1;33m\u001B[0m\u001B[0m\n\u001B[1;32m----> 7\u001B[1;33m         \u001B[0mlist_R\u001B[0m \u001B[1;33m=\u001B[0m \u001B[0mget_recommendation_item\u001B[0m\u001B[1;33m(\u001B[0m\u001B[0mX_test_FoodId\u001B[0m\u001B[1;33m[\u001B[0m\u001B[0mi\u001B[0m\u001B[1;33m]\u001B[0m\u001B[1;33m,\u001B[0m \u001B[0mnumber_of_food\u001B[0m\u001B[1;33m,\u001B[0m \u001B[0mmetrics_rating\u001B[0m\u001B[1;33m,\u001B[0m \u001B[0mmetrics_similar\u001B[0m\u001B[1;33m)\u001B[0m\u001B[1;33m\u001B[0m\u001B[1;33m\u001B[0m\u001B[0m\n\u001B[0m\u001B[0;32m      8\u001B[0m         \u001B[0mcheck\u001B[0m \u001B[1;33m=\u001B[0m \u001B[1;36m0\u001B[0m\u001B[1;33m\u001B[0m\u001B[1;33m\u001B[0m\u001B[0m\n\u001B[0;32m      9\u001B[0m         \u001B[1;32mfor\u001B[0m \u001B[0mj\u001B[0m \u001B[1;32min\u001B[0m \u001B[0mlist_R\u001B[0m\u001B[1;33m:\u001B[0m\u001B[1;33m\u001B[0m\u001B[1;33m\u001B[0m\u001B[0m\n",
      "\u001B[1;32m~\\AppData\\Local\\Temp/ipykernel_16212/2658795657.py\u001B[0m in \u001B[0;36mget_recommendation_item\u001B[1;34m(userid, number_of_food, metrics_rating, metric_similar)\u001B[0m\n\u001B[0;32m     10\u001B[0m         \u001B[1;32mreturn\u001B[0m \u001B[0mrecomendations\u001B[0m\u001B[1;33m\u001B[0m\u001B[1;33m\u001B[0m\u001B[0m\n\u001B[0;32m     11\u001B[0m     \u001B[1;32melif\u001B[0m \u001B[1;33m(\u001B[0m\u001B[0mmetrics_rating\u001B[0m \u001B[1;33m==\u001B[0m \u001B[1;34m\"tbdgcts\"\u001B[0m\u001B[1;33m)\u001B[0m\u001B[1;33m:\u001B[0m\u001B[1;33m\u001B[0m\u001B[1;33m\u001B[0m\u001B[0m\n\u001B[1;32m---> 12\u001B[1;33m         \u001B[0mrecomendations\u001B[0m \u001B[1;33m=\u001B[0m \u001B[0mget_recommendation_tbdgcts_item\u001B[0m\u001B[1;33m(\u001B[0m\u001B[0muserid\u001B[0m\u001B[1;33m,\u001B[0m \u001B[0mnumber_of_food\u001B[0m\u001B[1;33m,\u001B[0m \u001B[0mmetric_similar\u001B[0m\u001B[1;33m)\u001B[0m\u001B[1;33m\u001B[0m\u001B[1;33m\u001B[0m\u001B[0m\n\u001B[0m\u001B[0;32m     13\u001B[0m         \u001B[1;32mreturn\u001B[0m \u001B[0mrecomendations\u001B[0m\u001B[1;33m\u001B[0m\u001B[1;33m\u001B[0m\u001B[0m\n\u001B[0;32m     14\u001B[0m     \u001B[1;32melif\u001B[0m \u001B[1;33m(\u001B[0m\u001B[0mmetrics_rating\u001B[0m \u001B[1;33m==\u001B[0m \u001B[1;34m\"kdg\"\u001B[0m\u001B[1;33m)\u001B[0m\u001B[1;33m:\u001B[0m\u001B[1;33m\u001B[0m\u001B[1;33m\u001B[0m\u001B[0m\n",
      "\u001B[1;32m~\\AppData\\Local\\Temp/ipykernel_16212/3489525974.py\u001B[0m in \u001B[0;36mget_recommendation_tbdgcts_item\u001B[1;34m(foodid, number_of_food, metric_similar)\u001B[0m\n\u001B[0;32m      3\u001B[0m     \u001B[0mtotal\u001B[0m \u001B[1;33m=\u001B[0m \u001B[1;33m{\u001B[0m\u001B[1;33m}\u001B[0m\u001B[1;33m\u001B[0m\u001B[1;33m\u001B[0m\u001B[0m\n\u001B[0;32m      4\u001B[0m     \u001B[0msimilarity_sum\u001B[0m \u001B[1;33m=\u001B[0m \u001B[1;33m{\u001B[0m\u001B[1;33m}\u001B[0m\u001B[1;33m\u001B[0m\u001B[1;33m\u001B[0m\u001B[0m\n\u001B[1;32m----> 5\u001B[1;33m     \u001B[0mList_similar\u001B[0m \u001B[1;33m=\u001B[0m \u001B[0mget_similarity_item\u001B[0m\u001B[1;33m(\u001B[0m\u001B[0mfoodid\u001B[0m\u001B[1;33m,\u001B[0m \u001B[0mnumber_of_food\u001B[0m\u001B[1;33m,\u001B[0m \u001B[0mmetric_similar\u001B[0m\u001B[1;33m)\u001B[0m\u001B[1;33m\u001B[0m\u001B[1;33m\u001B[0m\u001B[0m\n\u001B[0m\u001B[0;32m      6\u001B[0m     \u001B[1;32mfor\u001B[0m \u001B[0mpeason\u001B[0m\u001B[1;33m,\u001B[0m \u001B[0mfood\u001B[0m \u001B[1;32min\u001B[0m \u001B[0mList_similar\u001B[0m\u001B[1;33m:\u001B[0m\u001B[1;33m\u001B[0m\u001B[1;33m\u001B[0m\u001B[0m\n\u001B[0;32m      7\u001B[0m         \u001B[0mscore\u001B[0m \u001B[1;33m=\u001B[0m \u001B[0mpeason\u001B[0m\u001B[1;33m\u001B[0m\u001B[1;33m\u001B[0m\u001B[0m\n",
      "\u001B[1;32m~\\AppData\\Local\\Temp/ipykernel_16212/3870172377.py\u001B[0m in \u001B[0;36mget_similarity_item\u001B[1;34m(food1, number_of_food, metric_similar)\u001B[0m\n\u001B[0;32m      6\u001B[0m         \u001B[1;32mif\u001B[0m \u001B[1;33m(\u001B[0m\u001B[0mfoodID\u001B[0m \u001B[1;33m!=\u001B[0m \u001B[0mfood1\u001B[0m\u001B[1;33m)\u001B[0m\u001B[1;33m:\u001B[0m\u001B[1;33m\u001B[0m\u001B[1;33m\u001B[0m\u001B[0m\n\u001B[0;32m      7\u001B[0m             \u001B[1;32mif\u001B[0m \u001B[1;33m(\u001B[0m\u001B[0mmetric_similar\u001B[0m \u001B[1;33m==\u001B[0m \u001B[1;34m\"cosine\"\u001B[0m\u001B[1;33m)\u001B[0m\u001B[1;33m:\u001B[0m\u001B[1;33m\u001B[0m\u001B[1;33m\u001B[0m\u001B[0m\n\u001B[1;32m----> 8\u001B[1;33m                 \u001B[0msimilarity_score\u001B[0m\u001B[1;33m.\u001B[0m\u001B[0mappend\u001B[0m\u001B[1;33m(\u001B[0m\u001B[1;33m(\u001B[0m\u001B[0mcosine_similarity_item\u001B[0m\u001B[1;33m(\u001B[0m\u001B[0mfood1\u001B[0m\u001B[1;33m,\u001B[0m \u001B[0mfoodID\u001B[0m\u001B[1;33m)\u001B[0m\u001B[1;33m,\u001B[0m \u001B[0mfoodID\u001B[0m\u001B[1;33m)\u001B[0m\u001B[1;33m)\u001B[0m\u001B[1;33m\u001B[0m\u001B[1;33m\u001B[0m\u001B[0m\n\u001B[0m\u001B[0;32m      9\u001B[0m             \u001B[1;32melif\u001B[0m \u001B[1;33m(\u001B[0m\u001B[0mmetric_similar\u001B[0m \u001B[1;33m==\u001B[0m \u001B[1;34m\"pearson\"\u001B[0m\u001B[1;33m)\u001B[0m\u001B[1;33m:\u001B[0m\u001B[1;33m\u001B[0m\u001B[1;33m\u001B[0m\u001B[0m\n\u001B[0;32m     10\u001B[0m                 \u001B[0msimilarity_score\u001B[0m\u001B[1;33m.\u001B[0m\u001B[0mappend\u001B[0m\u001B[1;33m(\u001B[0m\u001B[1;33m(\u001B[0m\u001B[0mpearson_correlation_item\u001B[0m\u001B[1;33m(\u001B[0m\u001B[0mfood1\u001B[0m\u001B[1;33m,\u001B[0m \u001B[0mfoodID\u001B[0m\u001B[1;33m)\u001B[0m\u001B[1;33m,\u001B[0m \u001B[0mfoodID\u001B[0m\u001B[1;33m)\u001B[0m\u001B[1;33m)\u001B[0m\u001B[1;33m\u001B[0m\u001B[1;33m\u001B[0m\u001B[0m\n",
      "\u001B[1;32m~\\AppData\\Local\\Temp/ipykernel_16212/1533557456.py\u001B[0m in \u001B[0;36mcosine_similarity_item\u001B[1;34m(food1, food2)\u001B[0m\n\u001B[0;32m     13\u001B[0m         \u001B[1;32mif\u001B[0m \u001B[0muserid\u001B[0m \u001B[1;32min\u001B[0m \u001B[0mtrain\u001B[0m\u001B[1;33m.\u001B[0m\u001B[0mloc\u001B[0m\u001B[1;33m[\u001B[0m\u001B[0mtrain\u001B[0m\u001B[1;33m.\u001B[0m\u001B[0mFoodId\u001B[0m \u001B[1;33m==\u001B[0m \u001B[0mfood2\u001B[0m\u001B[1;33m,\u001B[0m \u001B[1;34m'UserID'\u001B[0m\u001B[1;33m]\u001B[0m\u001B[1;33m.\u001B[0m\u001B[0mtolist\u001B[0m\u001B[1;33m(\u001B[0m\u001B[1;33m)\u001B[0m\u001B[1;33m:\u001B[0m\u001B[1;33m\u001B[0m\u001B[1;33m\u001B[0m\u001B[0m\n\u001B[0;32m     14\u001B[0m             \u001B[0mrating1\u001B[0m\u001B[1;33m.\u001B[0m\u001B[0mappend\u001B[0m\u001B[1;33m(\u001B[0m\u001B[0mget_rating\u001B[0m\u001B[1;33m(\u001B[0m\u001B[0muserid\u001B[0m\u001B[1;33m,\u001B[0m \u001B[0mfood1\u001B[0m\u001B[1;33m)\u001B[0m\u001B[1;33m)\u001B[0m\u001B[1;33m\u001B[0m\u001B[1;33m\u001B[0m\u001B[0m\n\u001B[1;32m---> 15\u001B[1;33m             \u001B[0mrating2\u001B[0m\u001B[1;33m.\u001B[0m\u001B[0mappend\u001B[0m\u001B[1;33m(\u001B[0m\u001B[0mget_rating\u001B[0m\u001B[1;33m(\u001B[0m\u001B[0muserid\u001B[0m\u001B[1;33m,\u001B[0m \u001B[0mfood2\u001B[0m\u001B[1;33m)\u001B[0m\u001B[1;33m)\u001B[0m\u001B[1;33m\u001B[0m\u001B[1;33m\u001B[0m\u001B[0m\n\u001B[0m\u001B[0;32m     16\u001B[0m \u001B[1;33m\u001B[0m\u001B[0m\n\u001B[0;32m     17\u001B[0m     \u001B[1;32mif\u001B[0m \u001B[1;33m(\u001B[0m\u001B[0mnorm\u001B[0m\u001B[1;33m(\u001B[0m\u001B[0mrating1\u001B[0m\u001B[1;33m)\u001B[0m\u001B[1;33m*\u001B[0m\u001B[0mnorm\u001B[0m\u001B[1;33m(\u001B[0m\u001B[0mrating2\u001B[0m\u001B[1;33m)\u001B[0m\u001B[1;33m)\u001B[0m \u001B[1;33m==\u001B[0m \u001B[1;36m0\u001B[0m\u001B[1;33m:\u001B[0m\u001B[1;33m\u001B[0m\u001B[1;33m\u001B[0m\u001B[0m\n",
      "\u001B[1;32m~\\AppData\\Local\\Temp/ipykernel_16212/2946711573.py\u001B[0m in \u001B[0;36mget_rating\u001B[1;34m(userid, foodid)\u001B[0m\n\u001B[0;32m      1\u001B[0m \u001B[1;32mdef\u001B[0m \u001B[0mget_rating\u001B[0m\u001B[1;33m(\u001B[0m\u001B[0muserid\u001B[0m\u001B[1;33m,\u001B[0m \u001B[0mfoodid\u001B[0m\u001B[1;33m)\u001B[0m\u001B[1;33m:\u001B[0m\u001B[1;33m\u001B[0m\u001B[1;33m\u001B[0m\u001B[0m\n\u001B[1;32m----> 2\u001B[1;33m     \u001B[1;32mreturn\u001B[0m \u001B[1;33m(\u001B[0m\u001B[0mtrain\u001B[0m\u001B[1;33m.\u001B[0m\u001B[0mloc\u001B[0m\u001B[1;33m[\u001B[0m\u001B[1;33m(\u001B[0m\u001B[1;33m(\u001B[0m\u001B[0mtrain\u001B[0m\u001B[1;33m.\u001B[0m\u001B[0mUserID\u001B[0m\u001B[1;33m==\u001B[0m \u001B[0muserid\u001B[0m\u001B[1;33m)\u001B[0m\u001B[1;33m&\u001B[0m\u001B[1;33m(\u001B[0m\u001B[0mtrain\u001B[0m\u001B[1;33m.\u001B[0m\u001B[0mFoodId\u001B[0m\u001B[1;33m==\u001B[0m \u001B[0mfoodid\u001B[0m\u001B[1;33m)\u001B[0m\u001B[1;33m)\u001B[0m\u001B[1;33m,\u001B[0m \u001B[1;34m'rating'\u001B[0m\u001B[1;33m]\u001B[0m\u001B[1;33m.\u001B[0m\u001B[0miloc\u001B[0m\u001B[1;33m[\u001B[0m\u001B[1;36m0\u001B[0m\u001B[1;33m]\u001B[0m\u001B[1;33m)\u001B[0m\u001B[1;33m\u001B[0m\u001B[1;33m\u001B[0m\u001B[0m\n\u001B[0m\u001B[0;32m      3\u001B[0m \u001B[1;31m#------------------------\u001B[0m\u001B[1;33m\u001B[0m\u001B[1;33m\u001B[0m\u001B[1;33m\u001B[0m\u001B[0m\n\u001B[0;32m      4\u001B[0m \u001B[1;32mdef\u001B[0m \u001B[0mget_foodid\u001B[0m\u001B[1;33m(\u001B[0m\u001B[0muserid\u001B[0m\u001B[1;33m)\u001B[0m\u001B[1;33m:\u001B[0m\u001B[1;33m\u001B[0m\u001B[1;33m\u001B[0m\u001B[0m\n\u001B[0;32m      5\u001B[0m     \u001B[1;32mreturn\u001B[0m \u001B[1;33m(\u001B[0m\u001B[0mtrain\u001B[0m\u001B[1;33m.\u001B[0m\u001B[0mloc\u001B[0m\u001B[1;33m[\u001B[0m\u001B[1;33m(\u001B[0m\u001B[0mtrain\u001B[0m\u001B[1;33m.\u001B[0m\u001B[0mUserID\u001B[0m\u001B[1;33m==\u001B[0m\u001B[0muserid\u001B[0m\u001B[1;33m)\u001B[0m\u001B[1;33m,\u001B[0m \u001B[1;34m'FoodId'\u001B[0m\u001B[1;33m]\u001B[0m\u001B[1;33m.\u001B[0m\u001B[0mtolist\u001B[0m\u001B[1;33m(\u001B[0m\u001B[1;33m)\u001B[0m\u001B[1;33m)\u001B[0m\u001B[1;33m\u001B[0m\u001B[1;33m\u001B[0m\u001B[0m\n",
      "\u001B[1;32mg:\\root_project\\lib\\site-packages\\pandas\\core\\ops\\common.py\u001B[0m in \u001B[0;36mnew_method\u001B[1;34m(self, other)\u001B[0m\n\u001B[0;32m     63\u001B[0m         \u001B[0mother\u001B[0m \u001B[1;33m=\u001B[0m \u001B[0mitem_from_zerodim\u001B[0m\u001B[1;33m(\u001B[0m\u001B[0mother\u001B[0m\u001B[1;33m)\u001B[0m\u001B[1;33m\u001B[0m\u001B[1;33m\u001B[0m\u001B[0m\n\u001B[0;32m     64\u001B[0m \u001B[1;33m\u001B[0m\u001B[0m\n\u001B[1;32m---> 65\u001B[1;33m         \u001B[1;32mreturn\u001B[0m \u001B[0mmethod\u001B[0m\u001B[1;33m(\u001B[0m\u001B[0mself\u001B[0m\u001B[1;33m,\u001B[0m \u001B[0mother\u001B[0m\u001B[1;33m)\u001B[0m\u001B[1;33m\u001B[0m\u001B[1;33m\u001B[0m\u001B[0m\n\u001B[0m\u001B[0;32m     66\u001B[0m \u001B[1;33m\u001B[0m\u001B[0m\n\u001B[0;32m     67\u001B[0m     \u001B[1;32mreturn\u001B[0m \u001B[0mnew_method\u001B[0m\u001B[1;33m\u001B[0m\u001B[1;33m\u001B[0m\u001B[0m\n",
      "\u001B[1;32mg:\\root_project\\lib\\site-packages\\pandas\\core\\arraylike.py\u001B[0m in \u001B[0;36m__and__\u001B[1;34m(self, other)\u001B[0m\n\u001B[0;32m     57\u001B[0m     \u001B[1;33m@\u001B[0m\u001B[0munpack_zerodim_and_defer\u001B[0m\u001B[1;33m(\u001B[0m\u001B[1;34m\"__and__\"\u001B[0m\u001B[1;33m)\u001B[0m\u001B[1;33m\u001B[0m\u001B[1;33m\u001B[0m\u001B[0m\n\u001B[0;32m     58\u001B[0m     \u001B[1;32mdef\u001B[0m \u001B[0m__and__\u001B[0m\u001B[1;33m(\u001B[0m\u001B[0mself\u001B[0m\u001B[1;33m,\u001B[0m \u001B[0mother\u001B[0m\u001B[1;33m)\u001B[0m\u001B[1;33m:\u001B[0m\u001B[1;33m\u001B[0m\u001B[1;33m\u001B[0m\u001B[0m\n\u001B[1;32m---> 59\u001B[1;33m         \u001B[1;32mreturn\u001B[0m \u001B[0mself\u001B[0m\u001B[1;33m.\u001B[0m\u001B[0m_logical_method\u001B[0m\u001B[1;33m(\u001B[0m\u001B[0mother\u001B[0m\u001B[1;33m,\u001B[0m \u001B[0moperator\u001B[0m\u001B[1;33m.\u001B[0m\u001B[0mand_\u001B[0m\u001B[1;33m)\u001B[0m\u001B[1;33m\u001B[0m\u001B[1;33m\u001B[0m\u001B[0m\n\u001B[0m\u001B[0;32m     60\u001B[0m \u001B[1;33m\u001B[0m\u001B[0m\n\u001B[0;32m     61\u001B[0m     \u001B[1;33m@\u001B[0m\u001B[0munpack_zerodim_and_defer\u001B[0m\u001B[1;33m(\u001B[0m\u001B[1;34m\"__rand__\"\u001B[0m\u001B[1;33m)\u001B[0m\u001B[1;33m\u001B[0m\u001B[1;33m\u001B[0m\u001B[0m\n",
      "\u001B[1;32mg:\\root_project\\lib\\site-packages\\pandas\\core\\series.py\u001B[0m in \u001B[0;36m_logical_method\u001B[1;34m(self, other, op)\u001B[0m\n\u001B[0;32m   4987\u001B[0m         \u001B[0mrvalues\u001B[0m \u001B[1;33m=\u001B[0m \u001B[0mextract_array\u001B[0m\u001B[1;33m(\u001B[0m\u001B[0mother\u001B[0m\u001B[1;33m,\u001B[0m \u001B[0mextract_numpy\u001B[0m\u001B[1;33m=\u001B[0m\u001B[1;32mTrue\u001B[0m\u001B[1;33m)\u001B[0m\u001B[1;33m\u001B[0m\u001B[1;33m\u001B[0m\u001B[0m\n\u001B[0;32m   4988\u001B[0m \u001B[1;33m\u001B[0m\u001B[0m\n\u001B[1;32m-> 4989\u001B[1;33m         \u001B[0mres_values\u001B[0m \u001B[1;33m=\u001B[0m \u001B[0mops\u001B[0m\u001B[1;33m.\u001B[0m\u001B[0mlogical_op\u001B[0m\u001B[1;33m(\u001B[0m\u001B[0mlvalues\u001B[0m\u001B[1;33m,\u001B[0m \u001B[0mrvalues\u001B[0m\u001B[1;33m,\u001B[0m \u001B[0mop\u001B[0m\u001B[1;33m)\u001B[0m\u001B[1;33m\u001B[0m\u001B[1;33m\u001B[0m\u001B[0m\n\u001B[0m\u001B[0;32m   4990\u001B[0m         \u001B[1;32mreturn\u001B[0m \u001B[0mself\u001B[0m\u001B[1;33m.\u001B[0m\u001B[0m_construct_result\u001B[0m\u001B[1;33m(\u001B[0m\u001B[0mres_values\u001B[0m\u001B[1;33m,\u001B[0m \u001B[0mname\u001B[0m\u001B[1;33m=\u001B[0m\u001B[0mres_name\u001B[0m\u001B[1;33m)\u001B[0m\u001B[1;33m\u001B[0m\u001B[1;33m\u001B[0m\u001B[0m\n\u001B[0;32m   4991\u001B[0m \u001B[1;33m\u001B[0m\u001B[0m\n",
      "\u001B[1;32mg:\\root_project\\lib\\site-packages\\pandas\\core\\ops\\array_ops.py\u001B[0m in \u001B[0;36mlogical_op\u001B[1;34m(left, right, op)\u001B[0m\n\u001B[0;32m    353\u001B[0m         \u001B[0mfiller\u001B[0m \u001B[1;33m=\u001B[0m \u001B[0mfill_int\u001B[0m \u001B[1;32mif\u001B[0m \u001B[0mis_self_int_dtype\u001B[0m \u001B[1;32mand\u001B[0m \u001B[0mis_other_int_dtype\u001B[0m \u001B[1;32melse\u001B[0m \u001B[0mfill_bool\u001B[0m\u001B[1;33m\u001B[0m\u001B[1;33m\u001B[0m\u001B[0m\n\u001B[0;32m    354\u001B[0m \u001B[1;33m\u001B[0m\u001B[0m\n\u001B[1;32m--> 355\u001B[1;33m         \u001B[0mres_values\u001B[0m \u001B[1;33m=\u001B[0m \u001B[0mna_logical_op\u001B[0m\u001B[1;33m(\u001B[0m\u001B[0mlvalues\u001B[0m\u001B[1;33m,\u001B[0m \u001B[0mrvalues\u001B[0m\u001B[1;33m,\u001B[0m \u001B[0mop\u001B[0m\u001B[1;33m)\u001B[0m\u001B[1;33m\u001B[0m\u001B[1;33m\u001B[0m\u001B[0m\n\u001B[0m\u001B[0;32m    356\u001B[0m         \u001B[1;31m# error: Cannot call function of unknown type\u001B[0m\u001B[1;33m\u001B[0m\u001B[1;33m\u001B[0m\u001B[1;33m\u001B[0m\u001B[0m\n\u001B[0;32m    357\u001B[0m         \u001B[0mres_values\u001B[0m \u001B[1;33m=\u001B[0m \u001B[0mfiller\u001B[0m\u001B[1;33m(\u001B[0m\u001B[0mres_values\u001B[0m\u001B[1;33m)\u001B[0m  \u001B[1;31m# type: ignore[operator]\u001B[0m\u001B[1;33m\u001B[0m\u001B[1;33m\u001B[0m\u001B[0m\n",
      "\u001B[1;32mg:\\root_project\\lib\\site-packages\\pandas\\core\\ops\\array_ops.py\u001B[0m in \u001B[0;36mna_logical_op\u001B[1;34m(x, y, op)\u001B[0m\n\u001B[0;32m    263\u001B[0m         \u001B[1;31m# Then Cases where this goes through without raising include:\u001B[0m\u001B[1;33m\u001B[0m\u001B[1;33m\u001B[0m\u001B[1;33m\u001B[0m\u001B[0m\n\u001B[0;32m    264\u001B[0m         \u001B[1;31m#  (xint or xbool) and (yint or bool)\u001B[0m\u001B[1;33m\u001B[0m\u001B[1;33m\u001B[0m\u001B[1;33m\u001B[0m\u001B[0m\n\u001B[1;32m--> 265\u001B[1;33m         \u001B[0mresult\u001B[0m \u001B[1;33m=\u001B[0m \u001B[0mop\u001B[0m\u001B[1;33m(\u001B[0m\u001B[0mx\u001B[0m\u001B[1;33m,\u001B[0m \u001B[0my\u001B[0m\u001B[1;33m)\u001B[0m\u001B[1;33m\u001B[0m\u001B[1;33m\u001B[0m\u001B[0m\n\u001B[0m\u001B[0;32m    266\u001B[0m     \u001B[1;32mexcept\u001B[0m \u001B[0mTypeError\u001B[0m\u001B[1;33m:\u001B[0m\u001B[1;33m\u001B[0m\u001B[1;33m\u001B[0m\u001B[0m\n\u001B[0;32m    267\u001B[0m         \u001B[1;32mif\u001B[0m \u001B[0misinstance\u001B[0m\u001B[1;33m(\u001B[0m\u001B[0my\u001B[0m\u001B[1;33m,\u001B[0m \u001B[0mnp\u001B[0m\u001B[1;33m.\u001B[0m\u001B[0mndarray\u001B[0m\u001B[1;33m)\u001B[0m\u001B[1;33m:\u001B[0m\u001B[1;33m\u001B[0m\u001B[1;33m\u001B[0m\u001B[0m\n",
      "\u001B[1;31mKeyboardInterrupt\u001B[0m: "
     ]
    }
   ]
  },
  {
   "cell_type": "code",
   "metadata": {
    "colab": {
     "base_uri": "https://localhost:8080/"
    },
    "id": "Ty0BNA5oynJy",
    "executionInfo": {
     "status": "ok",
     "timestamp": 1640418389791,
     "user_tz": -420,
     "elapsed": 42,
     "user": {
      "displayName": "Tri Nguyen Duc",
      "photoUrl": "https://lh3.googleusercontent.com/a/default-user=s64",
      "userId": "11271696257689674804"
     }
    },
    "outputId": "5bffe663-58b7-4acf-89b3-53b23a29db77"
   },
   "source": [
    "X_test_pred_rating_select = []\n",
    "X_test_true_rating_select = []\n",
    "\n",
    "for i in range(len(X_test_pred_rating)):\n",
    "    if (X_test_pred_rating[i] != 0):\n",
    "        X_test_pred_rating_select.append(X_test_pred_rating[i])\n",
    "        X_test_true_rating_select.append(test['rating'].tolist()[i])\n",
    "        X_test_pred_rating_select_round = [round(num) for num in X_test_pred_rating_select]\n",
    "\n",
    "mse = mean_squared_error(X_test_true_rating_select, X_test_pred_rating_select)\n",
    "rmse = math.sqrt(mse)\n",
    "mae = mean_absolute_error(X_test_true_rating_select, X_test_pred_rating_select)\n",
    "\n",
    "precision = precision_score(X_test_true_rating_select, X_test_pred_rating_select_round,average='macro')\n",
    "recall = recall_score(X_test_true_rating_select, X_test_pred_rating_select_round,average='macro')\n",
    "f1 = f1_score(X_test_true_rating_select, X_test_pred_rating_select_round, average='macro')\n",
    "#X_test_true_rating_select.sort(reverse = True)\n",
    "#max = X_test_true_rating_select[0]\n",
    "#min = X_test_true_rating_select[len(X_test_true_rating_select)-1]\n",
    "#nmae = mae/(max-min)\n",
    "print('---------------------------------')\n",
    "#print('Đánh giá trên độ đo MSE:', mse)\n",
    "print('Đánh giá trên độ đo RMSE:', rmse)\n",
    "print('Đánh giá trên độ đo MAE:', mae)\n",
    "#print('Đánh giá trên độ đo NMAE:', nmae)\n",
    "print('Đánh giá trên độ đo precision:', precision)\n",
    "print('Đánh giá trên độ đo recall:', recall)\n",
    "print('Đánh giá trên độ đo f1_score:', f1)"
   ],
   "execution_count": null,
   "outputs": [
    {
     "output_type": "stream",
     "name": "stdout",
     "text": [
      "---------------------------------\n",
      "Đánh giá trên độ đo RMSE: 1.169087375075723\n",
      "Đánh giá trên độ đo MAE: 0.9242503012945611\n",
      "Đánh giá trên độ đo precision: 0.2480433033428425\n",
      "Đánh giá trên độ đo recall: 0.23860434152425253\n",
      "Đánh giá trên độ đo f1_score: 0.23363095238095238\n"
     ]
    },
    {
     "output_type": "stream",
     "name": "stderr",
     "text": [
      "/usr/local/lib/python3.7/dist-packages/sklearn/metrics/_classification.py:1308: UndefinedMetricWarning: Precision is ill-defined and being set to 0.0 in labels with no predicted samples. Use `zero_division` parameter to control this behavior.\n",
      "  _warn_prf(average, modifier, msg_start, len(result))\n"
     ]
    }
   ]
  },
  {
   "cell_type": "markdown",
   "metadata": {
    "id": "qOeGF-IcEeO2"
   },
   "source": [
    "## Dự đoán và đánh giá bằng pp TBDGCTS và peason"
   ]
  },
  {
   "cell_type": "code",
   "metadata": {
    "colab": {
     "base_uri": "https://localhost:8080/"
    },
    "id": "0jGUYQZjEUs-",
    "executionInfo": {
     "status": "ok",
     "timestamp": 1640419121142,
     "user_tz": -420,
     "elapsed": 731377,
     "user": {
      "displayName": "Tri Nguyen Duc",
      "photoUrl": "https://lh3.googleusercontent.com/a/default-user=s64",
      "userId": "11271696257689674804"
     }
    },
    "outputId": "a640cd3c-101f-40cb-aab6-992e902498d3"
   },
   "source": [
    "import time\n",
    "start = time.time()\n",
    "number_similar = 10\n",
    "metrics_rating = \"tbdgcts\" # 1 trong 3 [\"tbdg\", \"tbdgctg\", \"kdg\"]\n",
    "metrics_similar = \"pearson\" # 1 trong 2 [\"cosine\", \"peason\"]\n",
    "X_test_pred_rating = get_recommendation_4test_item(test, number_similar, metrics_rating, metrics_similar)\n",
    "\n",
    "end = time.time()\n",
    "\n",
    "print(\"Tổng thời gian dự đoán :\", end - start)"
   ],
   "execution_count": null,
   "outputs": [
    {
     "output_type": "stream",
     "name": "stdout",
     "text": [
      "Dự đoán cho tập test với 117 điểm dữ liệu\n",
      "----------dự đoán cho dòng thứ 0 là 4.0\n",
      "----------dự đoán cho dòng thứ 1 là 3.2174705934343533\n",
      "----------dự đoán cho dòng thứ 2 là 3.3225793067815466\n",
      "----------dự đoán cho dòng thứ 3 là 5.0\n",
      "----------dự đoán cho dòng thứ 4 là 3.799809101196309\n",
      "----------dự đoán cho dòng thứ 5 là 4.629592579364961\n",
      "----------dự đoán cho dòng thứ 6 là 4.0\n",
      "----------dự đoán cho dòng thứ 7 là 3.312777556663013\n",
      "----------dự đoán cho dòng thứ 8 là 5.0\n",
      "----------dự đoán cho dòng thứ 9 là 4.6967252741947405\n",
      "----------dự đoán cho dòng thứ 10 là 2.400255951573887\n",
      "----------dự đoán cho dòng thứ 11 là 4.0\n",
      "----------dự đoán cho dòng thứ 12 là 2.7568583595001357\n",
      "----------dự đoán cho dòng thứ 13 là 4.440789257469897\n",
      "----------dự đoán cho dòng thứ 14 là 2.694942381883323\n",
      "----------dự đoán cho dòng thứ 15 là 3.6832505062015493\n",
      "----------dự đoán cho dòng thứ 16 là 2.5632036342779627\n",
      "----------dự đoán cho dòng thứ 17 là 4.107379305310181\n",
      "----------dự đoán cho dòng thứ 18 là 3.1559737859660673\n",
      "----------dự đoán cho dòng thứ 19 là 4.0\n",
      "----------dự đoán cho dòng thứ 20 là 1.995155326437683\n",
      "----------dự đoán cho dòng thứ 21 là 3.2217293277581693\n",
      "----------dự đoán cho dòng thứ 22 là 3.8524318521208802\n",
      "----------dự đoán cho dòng thứ 23 là 3.553235221819087\n",
      "----------dự đoán cho dòng thứ 24 là 2.8273696603975655\n",
      "----------dự đoán cho dòng thứ 25 là 3.862056215823312\n",
      "----------dự đoán cho dòng thứ 26 là 3.3704074206350403\n",
      "----------dự đoán cho dòng thứ 27 là 1.8275054382145333\n",
      "----------dự đoán cho dòng thứ 28 là 3.598956429424786\n",
      "----------dự đoán cho dòng thứ 29 là 4.009516728079016\n",
      "----------dự đoán cho dòng thứ 30 là 2.901384497344058\n",
      "----------dự đoán cho dòng thứ 31 là 3.625555113326025\n",
      "----------dự đoán cho dòng thứ 32 là 3.508575251575047\n",
      "----------dự đoán cho dòng thứ 33 là 2.773741719587413\n",
      "----------dự đoán cho dòng thứ 34 là 2.9439455529957206\n",
      "----------dự đoán cho dòng thứ 35 là 4.509434091417717\n",
      "----------dự đoán cho dòng thứ 36 là 3.919482353691155\n",
      "----------dự đoán cho dòng thứ 37 là 3.8424061510670944\n",
      "----------dự đoán cho dòng thứ 38 là 3.2472783180430635\n",
      "----------dự đoán cho dòng thứ 39 là 4.7061779859457005\n",
      "----------dự đoán cho dòng thứ 40 là 4.562091521813529\n",
      "----------dự đoán cho dòng thứ 41 là 3.950569040298962\n",
      "----------dự đoán cho dòng thứ 42 là 4.151238870436235\n",
      "----------dự đoán cho dòng thứ 43 là 3.5958645435522274\n",
      "----------dự đoán cho dòng thứ 44 là 3.8222616902816626\n",
      "----------dự đoán cho dòng thứ 45 là 3.6912275557353063\n",
      "----------dự đoán cho dòng thứ 46 là 3.6686195912663506\n",
      "----------dự đoán cho dòng thứ 47 là 4.07042687391365\n",
      "----------dự đoán cho dòng thứ 48 là 4.407435430970149\n",
      "----------dự đoán cho dòng thứ 49 là 4.274176543389512\n",
      "----------dự đoán cho dòng thứ 50 là 4.4571278833550965\n",
      "----------dự đoán cho dòng thứ 51 là 3.950952019975364\n",
      "----------dự đoán cho dòng thứ 52 là 3.122286309605715\n"
     ]
    },
    {
     "output_type": "stream",
     "name": "stderr",
     "text": [
      "/usr/local/lib/python3.7/dist-packages/ipykernel_launcher.py:19: RuntimeWarning: invalid value encountered in double_scalars\n"
     ]
    },
    {
     "output_type": "stream",
     "name": "stdout",
     "text": [
      "----------dự đoán cho dòng thứ 53 là 4.553485173785192\n",
      "----------dự đoán cho dòng thứ 54 là 3.000000000000001\n",
      "----------dự đoán cho dòng thứ 55 là 3.7381360284231566\n",
      "----------dự đoán cho dòng thứ 56 là 3.059006788297257\n",
      "----------dự đoán cho dòng thứ 57 là 3.6280330553192925\n",
      "----------dự đoán cho dòng thứ 58 là 4.084648507015832\n",
      "----------dự đoán cho dòng thứ 59 là 4.133235867286004\n",
      "----------dự đoán cho dòng thứ 60 là 3.1209926003894655\n",
      "----------dự đoán cho dòng thứ 61 là 3.2847420903227746\n",
      "----------dự đoán cho dòng thứ 62 là 3.3610582363754045\n",
      "----------dự đoán cho dòng thứ 63 là 3.5925804380921202\n",
      "----------dự đoán cho dòng thứ 64 là 3.659917040361692\n",
      "----------dự đoán cho dòng thứ 65 là 3.6463464285535934\n",
      "----------dự đoán cho dòng thứ 66 là 4.1158252366772805\n",
      "----------dự đoán cho dòng thứ 67 là 2.929661208293428\n",
      "----------dự đoán cho dòng thứ 68 là 3.5396830435242164\n",
      "----------dự đoán cho dòng thứ 69 là 2.830349706679435\n",
      "----------dự đoán cho dòng thứ 70 là 3.573587883989774\n",
      "----------dự đoán cho dòng thứ 71 là 3.4703154097258793\n",
      "----------dự đoán cho dòng thứ 72 là 4.358628911224379\n",
      "----------dự đoán cho dòng thứ 73 là 5.000000000000001\n",
      "----------dự đoán cho dòng thứ 74 là 3.3172283179800854\n",
      "----------dự đoán cho dòng thứ 75 là 3.330965567757859\n",
      "----------dự đoán cho dòng thứ 76 là 3.956983709522289\n",
      "----------dự đoán cho dòng thứ 77 là 3.664184675751427\n",
      "----------dự đoán cho dòng thứ 78 là 4.999999999999999\n",
      "----------dự đoán cho dòng thứ 79 là 2.275948338746308\n",
      "----------dự đoán cho dòng thứ 80 là 3.688041414048598\n",
      "----------dự đoán cho dòng thứ 81 là 4.625208295969103\n",
      "----------dự đoán cho dòng thứ 82 là 3.40817585586111\n",
      "----------dự đoán cho dòng thứ 83 là 4.045150227346962\n",
      "----------dự đoán cho dòng thứ 84 là 3.266230733227622\n",
      "----------dự đoán cho dòng thứ 85 là 4.0\n",
      "----------dự đoán cho dòng thứ 86 là 3.26876571650415\n",
      "----------dự đoán cho dòng thứ 87 là 2.934344132320903\n",
      "----------dự đoán cho dòng thứ 88 là 3.2424119442736488\n",
      "----------dự đoán cho dòng thứ 89 là 3.020468201529261\n",
      "----------dự đoán cho dòng thứ 90 là 3.2189688488150905\n",
      "----------dự đoán cho dòng thứ 91 là 2.67602963664963\n",
      "----------dự đoán cho dòng thứ 92 là 3.6600701336691968\n",
      "----------dự đoán cho dòng thứ 93 là 4.632058582909803\n",
      "----------dự đoán cho dòng thứ 94 là 3.7825294065656467\n",
      "----------dự đoán cho dòng thứ 95 là 4.0\n",
      "----------dự đoán cho dòng thứ 96 là 2.763457737760798\n",
      "----------dự đoán cho dòng thứ 97 là 3.3006982454128067\n",
      "----------dự đoán cho dòng thứ 98 là 3.5712528835246555\n",
      "----------dự đoán cho dòng thứ 99 là 4.345114966989157\n",
      "----------dự đoán cho dòng thứ 100 là 3.6042976578078774\n",
      "----------dự đoán cho dòng thứ 101 là 3.835850272923219\n",
      "----------dự đoán cho dòng thứ 102 là 3.2714766779151656\n",
      "----------dự đoán cho dòng thứ 103 là 3.938176638401387\n",
      "----------dự đoán cho dòng thứ 104 là 3.3836509287575427\n",
      "----------dự đoán cho dòng thứ 105 là 3.5984972707139735\n",
      "----------dự đoán cho dòng thứ 106 là 3.853213920523364\n",
      "----------dự đoán cho dòng thứ 107 là 3.9756175087413395\n",
      "----------dự đoán cho dòng thứ 108 là 2.553227415697214\n",
      "----------dự đoán cho dòng thứ 109 là 2.944774928507653\n",
      "----------dự đoán cho dòng thứ 110 là 3.0000000000000004\n",
      "----------dự đoán cho dòng thứ 111 là 3.706534130465587\n",
      "----------dự đoán cho dòng thứ 112 là 4.2739780731841766\n",
      "----------dự đoán cho dòng thứ 113 là 2.709626271906184\n",
      "----------dự đoán cho dòng thứ 114 là 4.141858411845293\n",
      "----------dự đoán cho dòng thứ 115 là 3.9877492403072328\n",
      "----------dự đoán cho dòng thứ 116 là 4.185255222836\n",
      "Tổng thời gian dự đoán : 731.4513833522797\n"
     ]
    }
   ]
  },
  {
   "cell_type": "code",
   "metadata": {
    "id": "kIu82s_GEp2z",
    "colab": {
     "base_uri": "https://localhost:8080/"
    },
    "executionInfo": {
     "status": "ok",
     "timestamp": 1640419121143,
     "user_tz": -420,
     "elapsed": 18,
     "user": {
      "displayName": "Tri Nguyen Duc",
      "photoUrl": "https://lh3.googleusercontent.com/a/default-user=s64",
      "userId": "11271696257689674804"
     }
    },
    "outputId": "04cee40b-82d0-4fec-9f44-ede58bbbb8d2"
   },
   "source": [
    "X_test_pred_rating = list(np.where(np.isnan(X_test_pred_rating), 0, X_test_pred_rating))\n",
    "\n",
    "X_test_pred_rating_select = []\n",
    "X_test_true_rating_select = []\n",
    "\n",
    "for i in range(len(X_test_pred_rating)):\n",
    "    if (X_test_pred_rating[i] != 0):\n",
    "        X_test_pred_rating_select.append(X_test_pred_rating[i])\n",
    "        X_test_true_rating_select.append(test['rating'].tolist()[i])\n",
    "        X_test_pred_rating_select_round = [round(num) for num in X_test_pred_rating_select]\n",
    "\n",
    "mse = mean_squared_error(X_test_true_rating_select, X_test_pred_rating_select)\n",
    "rmse = math.sqrt(mse)\n",
    "mae = mean_absolute_error(X_test_true_rating_select, X_test_pred_rating_select)\n",
    "\n",
    "precision = precision_score(X_test_true_rating_select, X_test_pred_rating_select_round,average='macro')\n",
    "recall = recall_score(X_test_true_rating_select, X_test_pred_rating_select_round,average='macro')\n",
    "f1 = f1_score(X_test_true_rating_select, X_test_pred_rating_select_round, average='macro')\n",
    "#X_test_true_rating_select.sort(reverse = True)\n",
    "#max = X_test_true_rating_select[0]\n",
    "#min = X_test_true_rating_select[len(X_test_true_rating_select)-1]\n",
    "#nmae = mae/(max-min)\n",
    "print('---------------------------------')\n",
    "#print('Đánh giá trên độ đo MSE:', mse)\n",
    "print('Đánh giá trên độ đo RMSE:', rmse)\n",
    "print('Đánh giá trên độ đo MAE:', mae)\n",
    "#print('Đánh giá trên độ đo NMAE:', nmae)\n",
    "print('Đánh giá trên độ đo precision:', precision)\n",
    "print('Đánh giá trên độ đo recall:', recall)\n",
    "print('Đánh giá trên độ đo f1_score:', f1)"
   ],
   "execution_count": null,
   "outputs": [
    {
     "output_type": "stream",
     "name": "stdout",
     "text": [
      "---------------------------------\n",
      "Đánh giá trên độ đo RMSE: 1.003392851587606\n",
      "Đánh giá trên độ đo MAE: 0.8102597358265085\n",
      "Đánh giá trên độ đo precision: 0.3780487804878049\n",
      "Đánh giá trên độ đo recall: 0.3064860276235488\n",
      "Đánh giá trên độ đo f1_score: 0.3008975352555822\n"
     ]
    },
    {
     "output_type": "stream",
     "name": "stderr",
     "text": [
      "/usr/local/lib/python3.7/dist-packages/sklearn/metrics/_classification.py:1308: UndefinedMetricWarning: Precision is ill-defined and being set to 0.0 in labels with no predicted samples. Use `zero_division` parameter to control this behavior.\n",
      "  _warn_prf(average, modifier, msg_start, len(result))\n"
     ]
    }
   ]
  },
  {
   "cell_type": "markdown",
   "metadata": {
    "id": "F7CLEQk4E93k"
   },
   "source": [
    "## Dự đoán và đánh giá bằng pp TBDG và cosine"
   ]
  },
  {
   "cell_type": "code",
   "metadata": {
    "id": "uFJoHnoYFUBw",
    "colab": {
     "base_uri": "https://localhost:8080/"
    },
    "executionInfo": {
     "status": "ok",
     "timestamp": 1640419700280,
     "user_tz": -420,
     "elapsed": 579151,
     "user": {
      "displayName": "Tri Nguyen Duc",
      "photoUrl": "https://lh3.googleusercontent.com/a/default-user=s64",
      "userId": "11271696257689674804"
     }
    },
    "outputId": "af5275ea-09c0-4445-b129-654c4324ac71"
   },
   "source": [
    "import time\n",
    "start = time.time()\n",
    "user = \"U1\"\n",
    "number_similar = 10\n",
    "metrics_rating = \"tbdg\" # 1 trong 3 [\"tbdg\", \"tbdgctg\", \"kdg\"]\n",
    "metrics_similar = \"cosine\" # 1 trong 2 [\"cosine\", \"peason\"]\n",
    "X_test_pred_rating = get_recommendation_4test_item(test, number_similar, metrics_rating, metrics_similar)\n",
    "\n",
    "end = time.time()\n",
    "\n",
    "print(\"Tổng thời gian dự đoán :\", end - start)"
   ],
   "execution_count": null,
   "outputs": [
    {
     "output_type": "stream",
     "name": "stdout",
     "text": [
      "Dự đoán cho tập test với 117 điểm dữ liệu\n",
      "----------dự đoán cho dòng thứ 0 là 0\n",
      "----------dự đoán cho dòng thứ 1 là 3.5\n",
      "----------dự đoán cho dòng thứ 2 là 3.3333333333333335\n",
      "----------dự đoán cho dòng thứ 3 là 5.0\n",
      "----------dự đoán cho dòng thứ 4 là 3.75\n",
      "----------dự đoán cho dòng thứ 5 là 4.5\n",
      "----------dự đoán cho dòng thứ 6 là 4.0\n",
      "----------dự đoán cho dòng thứ 7 là 3.75\n",
      "----------dự đoán cho dòng thứ 8 là 5.0\n",
      "----------dự đoán cho dòng thứ 9 là 5.0\n",
      "----------dự đoán cho dòng thứ 10 là 2.8\n",
      "----------dự đoán cho dòng thứ 11 là 0\n",
      "----------dự đoán cho dòng thứ 12 là 2.6666666666666665\n",
      "----------dự đoán cho dòng thứ 13 là 4.5\n",
      "----------dự đoán cho dòng thứ 14 là 2.0\n",
      "----------dự đoán cho dòng thứ 15 là 4.0\n",
      "----------dự đoán cho dòng thứ 16 là 3.0\n",
      "----------dự đoán cho dòng thứ 17 là 4.0\n",
      "----------dự đoán cho dòng thứ 18 là 3.0\n",
      "----------dự đoán cho dòng thứ 19 là 0\n",
      "----------dự đoán cho dòng thứ 20 là 3.0\n",
      "----------dự đoán cho dòng thứ 21 là 0\n",
      "----------dự đoán cho dòng thứ 22 là 4.5\n",
      "----------dự đoán cho dòng thứ 23 là 3.6666666666666665\n",
      "----------dự đoán cho dòng thứ 24 là 2.0\n",
      "----------dự đoán cho dòng thứ 25 là 0\n",
      "----------dự đoán cho dòng thứ 26 là 3.5\n",
      "----------dự đoán cho dòng thứ 27 là 1.5\n",
      "----------dự đoán cho dòng thứ 28 là 3.5\n",
      "----------dự đoán cho dòng thứ 29 là 3.6666666666666665\n",
      "----------dự đoán cho dòng thứ 30 là 2.8\n",
      "----------dự đoán cho dòng thứ 31 là 4.25\n",
      "----------dự đoán cho dòng thứ 32 là 0\n",
      "----------dự đoán cho dòng thứ 33 là 3.0\n",
      "----------dự đoán cho dòng thứ 34 là 3.5\n",
      "----------dự đoán cho dòng thứ 35 là 4.5\n",
      "----------dự đoán cho dòng thứ 36 là 4.0\n",
      "----------dự đoán cho dòng thứ 37 là 3.6\n",
      "----------dự đoán cho dòng thứ 38 là 3.5\n",
      "----------dự đoán cho dòng thứ 39 là 5.0\n",
      "----------dự đoán cho dòng thứ 40 là 4.5\n",
      "----------dự đoán cho dòng thứ 41 là 5.0\n",
      "----------dự đoán cho dòng thứ 42 là 0\n",
      "----------dự đoán cho dòng thứ 43 là 5.0\n",
      "----------dự đoán cho dòng thứ 44 là 4.0\n",
      "----------dự đoán cho dòng thứ 45 là 4.666666666666667\n",
      "----------dự đoán cho dòng thứ 46 là 4.0\n",
      "----------dự đoán cho dòng thứ 47 là 4.0\n",
      "----------dự đoán cho dòng thứ 48 là 4.0\n",
      "----------dự đoán cho dòng thứ 49 là 4.166666666666667\n",
      "----------dự đoán cho dòng thứ 50 là 0\n",
      "----------dự đoán cho dòng thứ 51 là 3.6666666666666665\n",
      "----------dự đoán cho dòng thứ 52 là 3.1666666666666665\n",
      "----------dự đoán cho dòng thứ 53 là 4.5\n",
      "----------dự đoán cho dòng thứ 54 là 0\n",
      "----------dự đoán cho dòng thứ 55 là 3.6666666666666665\n",
      "----------dự đoán cho dòng thứ 56 là 3.3333333333333335\n",
      "----------dự đoán cho dòng thứ 57 là 3.6\n",
      "----------dự đoán cho dòng thứ 58 là 4.0\n",
      "----------dự đoán cho dòng thứ 59 là 4.0\n",
      "----------dự đoán cho dòng thứ 60 là 4.0\n",
      "----------dự đoán cho dòng thứ 61 là 3.0\n",
      "----------dự đoán cho dòng thứ 62 là 3.0\n",
      "----------dự đoán cho dòng thứ 63 là 3.0\n",
      "----------dự đoán cho dòng thứ 64 là 3.6666666666666665\n",
      "----------dự đoán cho dòng thứ 65 là 3.0\n",
      "----------dự đoán cho dòng thứ 66 là 4.0\n",
      "----------dự đoán cho dòng thứ 67 là 0\n",
      "----------dự đoán cho dòng thứ 68 là 3.0\n",
      "----------dự đoán cho dòng thứ 69 là 3.0\n",
      "----------dự đoán cho dòng thứ 70 là 3.0\n",
      "----------dự đoán cho dòng thứ 71 là 4.0\n",
      "----------dự đoán cho dòng thứ 72 là 4.0\n",
      "----------dự đoán cho dòng thứ 73 là 5.0\n",
      "----------dự đoán cho dòng thứ 74 là 4.0\n",
      "----------dự đoán cho dòng thứ 75 là 3.0\n",
      "----------dự đoán cho dòng thứ 76 là 3.5\n",
      "----------dự đoán cho dòng thứ 77 là 3.0\n",
      "----------dự đoán cho dòng thứ 78 là 5.0\n",
      "----------dự đoán cho dòng thứ 79 là 3.0\n",
      "----------dự đoán cho dòng thứ 80 là 3.0\n",
      "----------dự đoán cho dòng thứ 81 là 5.0\n",
      "----------dự đoán cho dòng thứ 82 là 3.5\n",
      "----------dự đoán cho dòng thứ 83 là 4.0\n",
      "----------dự đoán cho dòng thứ 84 là 3.0\n",
      "----------dự đoán cho dòng thứ 85 là 4.2\n",
      "----------dự đoán cho dòng thứ 86 là 3.0\n",
      "----------dự đoán cho dòng thứ 87 là 4.0\n",
      "----------dự đoán cho dòng thứ 88 là 3.0\n",
      "----------dự đoán cho dòng thứ 89 là 2.5\n",
      "----------dự đoán cho dòng thứ 90 là 2.0\n",
      "----------dự đoán cho dòng thứ 91 là 2.75\n",
      "----------dự đoán cho dòng thứ 92 là 4.0\n",
      "----------dự đoán cho dòng thứ 93 là 5.0\n",
      "----------dự đoán cho dòng thứ 94 là 4.25\n",
      "----------dự đoán cho dòng thứ 95 là 3.3333333333333335\n",
      "----------dự đoán cho dòng thứ 96 là 0\n",
      "----------dự đoán cho dòng thứ 97 là 0\n",
      "----------dự đoán cho dòng thứ 98 là 0\n",
      "----------dự đoán cho dòng thứ 99 là 5.0\n",
      "----------dự đoán cho dòng thứ 100 là 3.6666666666666665\n",
      "----------dự đoán cho dòng thứ 101 là 4.0\n",
      "----------dự đoán cho dòng thứ 102 là 3.5\n",
      "----------dự đoán cho dòng thứ 103 là 5.0\n",
      "----------dự đoán cho dòng thứ 104 là 3.3333333333333335\n",
      "----------dự đoán cho dòng thứ 105 là 4.0\n",
      "----------dự đoán cho dòng thứ 106 là 4.25\n",
      "----------dự đoán cho dòng thứ 107 là 4.333333333333333\n",
      "----------dự đoán cho dòng thứ 108 là 2.0\n",
      "----------dự đoán cho dòng thứ 109 là 3.75\n",
      "----------dự đoán cho dòng thứ 110 là 3.0\n",
      "----------dự đoán cho dòng thứ 111 là 4.0\n",
      "----------dự đoán cho dòng thứ 112 là 5.0\n",
      "----------dự đoán cho dòng thứ 113 là 2.0\n",
      "----------dự đoán cho dòng thứ 114 là 4.5\n",
      "----------dự đoán cho dòng thứ 115 là 4.25\n",
      "----------dự đoán cho dòng thứ 116 là 3.75\n",
      "Tổng thời gian dự đoán : 578.7972071170807\n"
     ]
    }
   ]
  },
  {
   "cell_type": "code",
   "metadata": {
    "id": "T6oszBYDFW7I",
    "colab": {
     "base_uri": "https://localhost:8080/"
    },
    "executionInfo": {
     "status": "ok",
     "timestamp": 1640419700281,
     "user_tz": -420,
     "elapsed": 27,
     "user": {
      "displayName": "Tri Nguyen Duc",
      "photoUrl": "https://lh3.googleusercontent.com/a/default-user=s64",
      "userId": "11271696257689674804"
     }
    },
    "outputId": "5e4eb360-1aaa-4ecc-f605-326a4a9020d4"
   },
   "source": [
    "X_test_pred_rating = list(np.where(np.isnan(X_test_pred_rating), 0, X_test_pred_rating))\n",
    "\n",
    "X_test_pred_rating_select = []\n",
    "X_test_true_rating_select = []\n",
    "\n",
    "for i in range(len(X_test_pred_rating)):\n",
    "    if (X_test_pred_rating[i] != 0):\n",
    "        X_test_pred_rating_select.append(X_test_pred_rating[i])\n",
    "        X_test_true_rating_select.append(test['rating'].tolist()[i])\n",
    "        X_test_pred_rating_select_round = [round(num) for num in X_test_pred_rating_select]\n",
    "\n",
    "mse = mean_squared_error(X_test_true_rating_select, X_test_pred_rating_select)\n",
    "rmse = math.sqrt(mse)\n",
    "mae = mean_absolute_error(X_test_true_rating_select, X_test_pred_rating_select)\n",
    "\n",
    "precision = precision_score(X_test_true_rating_select, X_test_pred_rating_select_round,average='macro')\n",
    "recall = recall_score(X_test_true_rating_select, X_test_pred_rating_select_round,average='macro')\n",
    "f1 = f1_score(X_test_true_rating_select, X_test_pred_rating_select_round, average='macro')\n",
    "#X_test_true_rating_select.sort(reverse = True)\n",
    "#max = X_test_true_rating_select[0]\n",
    "#min = X_test_true_rating_select[len(X_test_true_rating_select)-1]\n",
    "#nmae = mae/(max-min)\n",
    "print('---------------------------------')\n",
    "#print('Đánh giá trên độ đo MSE:', mse)\n",
    "print('Đánh giá trên độ đo RMSE:', rmse)\n",
    "print('Đánh giá trên độ đo MAE:', mae)\n",
    "#print('Đánh giá trên độ đo NMAE:', nmae)\n",
    "print('Đánh giá trên độ đo precision:', precision)\n",
    "print('Đánh giá trên độ đo recall:', recall)\n",
    "print('Đánh giá trên độ đo f1_score:', f1)"
   ],
   "execution_count": null,
   "outputs": [
    {
     "output_type": "stream",
     "name": "stdout",
     "text": [
      "---------------------------------\n",
      "Đánh giá trên độ đo RMSE: 1.1689869326549158\n",
      "Đánh giá trên độ đo MAE: 0.924198717948718\n",
      "Đánh giá trên độ đo precision: 0.24376623376623377\n",
      "Đánh giá trên độ đo recall: 0.23259766744193885\n",
      "Đánh giá trên độ đo f1_score: 0.22302367941712203\n"
     ]
    },
    {
     "output_type": "stream",
     "name": "stderr",
     "text": [
      "/usr/local/lib/python3.7/dist-packages/sklearn/metrics/_classification.py:1308: UndefinedMetricWarning: Precision is ill-defined and being set to 0.0 in labels with no predicted samples. Use `zero_division` parameter to control this behavior.\n",
      "  _warn_prf(average, modifier, msg_start, len(result))\n"
     ]
    }
   ]
  },
  {
   "cell_type": "markdown",
   "metadata": {
    "id": "8gNX4KfrFEtG"
   },
   "source": [
    "## Dự đoán và đánh giá bằng pp TBDG và peason\n"
   ]
  },
  {
   "cell_type": "code",
   "metadata": {
    "id": "jYgafu_xFaXp",
    "colab": {
     "base_uri": "https://localhost:8080/"
    },
    "executionInfo": {
     "status": "ok",
     "timestamp": 1640420465415,
     "user_tz": -420,
     "elapsed": 765157,
     "user": {
      "displayName": "Tri Nguyen Duc",
      "photoUrl": "https://lh3.googleusercontent.com/a/default-user=s64",
      "userId": "11271696257689674804"
     }
    },
    "outputId": "3da4817b-38fc-478f-b2c0-0ec7fe5f1cad"
   },
   "source": [
    "import time\n",
    "start = time.time()\n",
    "number_similar = 10\n",
    "metrics_rating = \"tbdg\" # 1 trong 3 [\"tbdg\", \"tbdgctg\", \"kdg\"]\n",
    "metrics_similar = \"pearson\" # 1 trong 2 [\"cosine\", \"pearson\"]\n",
    "X_test_pred_rating = get_recommendation_4test_item(test, number_similar, metrics_rating, metrics_similar)\n",
    "\n",
    "end = time.time()\n",
    "\n",
    "print(\"Tổng thời gian dự đoán :\", end - start)"
   ],
   "execution_count": null,
   "outputs": [
    {
     "output_type": "stream",
     "name": "stdout",
     "text": [
      "Dự đoán cho tập test với 117 điểm dữ liệu\n",
      "----------dự đoán cho dòng thứ 0 là 4.0\n",
      "----------dự đoán cho dòng thứ 1 là 3.3333333333333335\n",
      "----------dự đoán cho dòng thứ 2 là 3.3333333333333335\n",
      "----------dự đoán cho dòng thứ 3 là 5.0\n",
      "----------dự đoán cho dòng thứ 4 là 4.285714285714286\n",
      "----------dự đoán cho dòng thứ 5 là 4.666666666666667\n",
      "----------dự đoán cho dòng thứ 6 là 4.0\n",
      "----------dự đoán cho dòng thứ 7 là 3.3333333333333335\n",
      "----------dự đoán cho dòng thứ 8 là 5.0\n",
      "----------dự đoán cho dòng thứ 9 là 4.6\n",
      "----------dự đoán cho dòng thứ 10 là 2.6\n",
      "----------dự đoán cho dòng thứ 11 là 4.0\n",
      "----------dự đoán cho dòng thứ 12 là 3.0\n",
      "----------dự đoán cho dòng thứ 13 là 4.333333333333333\n",
      "----------dự đoán cho dòng thứ 14 là 3.0\n",
      "----------dự đoán cho dòng thứ 15 là 4.0\n",
      "----------dự đoán cho dòng thứ 16 là 2.6666666666666665\n",
      "----------dự đoán cho dòng thứ 17 là 4.142857142857143\n",
      "----------dự đoán cho dòng thứ 18 là 3.4285714285714284\n",
      "----------dự đoán cho dòng thứ 19 là 4.0\n",
      "----------dự đoán cho dòng thứ 20 là 2.0\n",
      "----------dự đoán cho dòng thứ 21 là 3.6666666666666665\n",
      "----------dự đoán cho dòng thứ 22 là 3.6666666666666665\n",
      "----------dự đoán cho dòng thứ 23 là 3.375\n",
      "----------dự đoán cho dòng thứ 24 là 3.1666666666666665\n",
      "----------dự đoán cho dòng thứ 25 là 4.0\n",
      "----------dự đoán cho dòng thứ 26 là 3.3333333333333335\n",
      "----------dự đoán cho dòng thứ 27 là 2.0\n",
      "----------dự đoán cho dòng thứ 28 là 3.6666666666666665\n",
      "----------dự đoán cho dòng thứ 29 là 4.0\n",
      "----------dự đoán cho dòng thứ 30 là 2.5\n",
      "----------dự đoán cho dòng thứ 31 là 3.6666666666666665\n",
      "----------dự đoán cho dòng thứ 32 là 3.5\n",
      "----------dự đoán cho dòng thứ 33 là 2.75\n",
      "----------dự đoán cho dòng thứ 34 là 2.6666666666666665\n",
      "----------dự đoán cho dòng thứ 35 là 4.166666666666667\n",
      "----------dự đoán cho dòng thứ 36 là 3.6666666666666665\n",
      "----------dự đoán cho dòng thứ 37 là 3.8\n",
      "----------dự đoán cho dòng thứ 38 là 3.3333333333333335\n",
      "----------dự đoán cho dòng thứ 39 là 4.8\n",
      "----------dự đoán cho dòng thứ 40 là 4.571428571428571\n",
      "----------dự đoán cho dòng thứ 41 là 3.5\n",
      "----------dự đoán cho dòng thứ 42 là 4.2\n",
      "----------dự đoán cho dòng thứ 43 là 3.375\n",
      "----------dự đoán cho dòng thứ 44 là 3.6\n",
      "----------dự đoán cho dòng thứ 45 là 3.8\n",
      "----------dự đoán cho dòng thứ 46 là 3.5\n",
      "----------dự đoán cho dòng thứ 47 là 4.142857142857143\n",
      "----------dự đoán cho dòng thứ 48 là 4.4\n",
      "----------dự đoán cho dòng thứ 49 là 4.166666666666667\n",
      "----------dự đoán cho dòng thứ 50 là 4.333333333333333\n",
      "----------dự đoán cho dòng thứ 51 là 3.75\n",
      "----------dự đoán cho dòng thứ 52 là 3.1666666666666665\n",
      "----------dự đoán cho dòng thứ 53 là 4.2\n",
      "----------dự đoán cho dòng thứ 54 là 3.0\n",
      "----------dự đoán cho dòng thứ 55 là 3.6666666666666665\n",
      "----------dự đoán cho dòng thứ 56 là 2.8\n",
      "----------dự đoán cho dòng thứ 57 là 3.6666666666666665\n",
      "----------dự đoán cho dòng thứ 58 là 4.0\n",
      "----------dự đoán cho dòng thứ 59 là 4.0\n",
      "----------dự đoán cho dòng thứ 60 là 3.6666666666666665\n",
      "----------dự đoán cho dòng thứ 61 là 3.75\n",
      "----------dự đoán cho dòng thứ 62 là 3.0\n",
      "----------dự đoán cho dòng thứ 63 là 3.8333333333333335\n",
      "----------dự đoán cho dòng thứ 64 là 3.6666666666666665\n",
      "----------dự đoán cho dòng thứ 65 là 3.8333333333333335\n",
      "----------dự đoán cho dòng thứ 66 là 4.25\n",
      "----------dự đoán cho dòng thứ 67 là 3.0\n",
      "----------dự đoán cho dòng thứ 68 là 3.7142857142857144\n",
      "----------dự đoán cho dòng thứ 69 là 2.875\n",
      "----------dự đoán cho dòng thứ 70 là 3.8333333333333335\n",
      "----------dự đoán cho dòng thứ 71 là 3.6666666666666665\n",
      "----------dự đoán cho dòng thứ 72 là 4.25\n",
      "----------dự đoán cho dòng thứ 73 là 5.0\n",
      "----------dự đoán cho dòng thứ 74 là 3.0\n",
      "----------dự đoán cho dòng thứ 75 là 3.5\n",
      "----------dự đoán cho dòng thứ 76 là 3.8333333333333335\n",
      "----------dự đoán cho dòng thứ 77 là 3.857142857142857\n",
      "----------dự đoán cho dòng thứ 78 là 5.0\n",
      "----------dự đoán cho dòng thứ 79 là 2.8333333333333335\n",
      "----------dự đoán cho dòng thứ 80 là 4.0\n",
      "----------dự đoán cho dòng thứ 81 là 4.5\n",
      "----------dự đoán cho dòng thứ 82 là 3.3333333333333335\n",
      "----------dự đoán cho dòng thứ 83 là 3.8\n",
      "----------dự đoán cho dòng thứ 84 là 3.25\n",
      "----------dự đoán cho dòng thứ 85 là 4.0\n",
      "----------dự đoán cho dòng thứ 86 là 3.4\n",
      "----------dự đoán cho dòng thứ 87 là 3.0\n",
      "----------dự đoán cho dòng thứ 88 là 2.6666666666666665\n",
      "----------dự đoán cho dòng thứ 89 là 3.0\n",
      "----------dự đoán cho dòng thứ 90 là 4.0\n",
      "----------dự đoán cho dòng thứ 91 là 3.0\n",
      "----------dự đoán cho dòng thứ 92 là 3.6666666666666665\n",
      "----------dự đoán cho dòng thứ 93 là 4.5\n",
      "----------dự đoán cho dòng thứ 94 là 3.6666666666666665\n",
      "----------dự đoán cho dòng thứ 95 là 4.0\n",
      "----------dự đoán cho dòng thứ 96 là 3.2\n",
      "----------dự đoán cho dòng thứ 97 là 3.1666666666666665\n",
      "----------dự đoán cho dòng thứ 98 là 3.5714285714285716\n",
      "----------dự đoán cho dòng thứ 99 là 4.333333333333333\n",
      "----------dự đoán cho dòng thứ 100 là 3.6\n",
      "----------dự đoán cho dòng thứ 101 là 3.8333333333333335\n",
      "----------dự đoán cho dòng thứ 102 là 2.75\n",
      "----------dự đoán cho dòng thứ 103 là 4.0\n",
      "----------dự đoán cho dòng thứ 104 là 3.5\n",
      "----------dự đoán cho dòng thứ 105 là 3.4\n",
      "----------dự đoán cho dòng thứ 106 là 3.75\n",
      "----------dự đoán cho dòng thứ 107 là 4.0\n",
      "----------dự đoán cho dòng thứ 108 là 2.8333333333333335\n",
      "----------dự đoán cho dòng thứ 109 là 3.0\n",
      "----------dự đoán cho dòng thứ 110 là 3.0\n",
      "----------dự đoán cho dòng thứ 111 là 3.857142857142857\n",
      "----------dự đoán cho dòng thứ 112 là 4.0\n",
      "----------dự đoán cho dòng thứ 113 là 3.125\n",
      "----------dự đoán cho dòng thứ 114 là 4.0\n",
      "----------dự đoán cho dòng thứ 115 là 4.0\n",
      "----------dự đoán cho dòng thứ 116 là 4.0\n",
      "Tổng thời gian dự đoán : 765.1266851425171\n"
     ]
    }
   ]
  },
  {
   "cell_type": "code",
   "metadata": {
    "id": "2e07V8zkFdPm",
    "colab": {
     "base_uri": "https://localhost:8080/"
    },
    "executionInfo": {
     "status": "ok",
     "timestamp": 1640420465416,
     "user_tz": -420,
     "elapsed": 27,
     "user": {
      "displayName": "Tri Nguyen Duc",
      "photoUrl": "https://lh3.googleusercontent.com/a/default-user=s64",
      "userId": "11271696257689674804"
     }
    },
    "outputId": "94d97ebb-e1fb-43c4-bf3d-532e619ebc8b"
   },
   "source": [
    "X_test_pred_rating = list(np.where(np.isnan(X_test_pred_rating), 0, X_test_pred_rating))\n",
    "\n",
    "X_test_pred_rating_select = []\n",
    "X_test_true_rating_select = []\n",
    "\n",
    "for i in range(len(X_test_pred_rating)):\n",
    "    if (X_test_pred_rating[i] != 0):\n",
    "        X_test_pred_rating_select.append(X_test_pred_rating[i])\n",
    "        X_test_true_rating_select.append(test['rating'].tolist()[i])\n",
    "        X_test_pred_rating_select_round = [round(num) for num in X_test_pred_rating_select]\n",
    "\n",
    "mse = mean_squared_error(X_test_true_rating_select, X_test_pred_rating_select)\n",
    "rmse = math.sqrt(mse)\n",
    "mae = mean_absolute_error(X_test_true_rating_select, X_test_pred_rating_select)\n",
    "\n",
    "precision = precision_score(X_test_true_rating_select, X_test_pred_rating_select_round,average='macro')\n",
    "recall = recall_score(X_test_true_rating_select, X_test_pred_rating_select_round,average='macro')\n",
    "f1 = f1_score(X_test_true_rating_select, X_test_pred_rating_select_round, average='macro')\n",
    "#X_test_true_rating_select.sort(reverse = True)\n",
    "#max = X_test_true_rating_select[0]\n",
    "#min = X_test_true_rating_select[len(X_test_true_rating_select)-1]\n",
    "#nmae = mae/(max-min)\n",
    "print('---------------------------------')\n",
    "#print('Đánh giá trên độ đo MSE:', mse)\n",
    "print('Đánh giá trên độ đo RMSE:', rmse)\n",
    "print('Đánh giá trên độ đo MAE:', mae)\n",
    "#print('Đánh giá trên độ đo NMAE:', nmae)\n",
    "print('Đánh giá trên độ đo precision:', precision)\n",
    "print('Đánh giá trên độ đo recall:', recall)\n",
    "print('Đánh giá trên độ đo f1_score:', f1)"
   ],
   "execution_count": null,
   "outputs": [
    {
     "output_type": "stream",
     "name": "stdout",
     "text": [
      "---------------------------------\n",
      "Đánh giá trên độ đo RMSE: 0.9909952979323673\n",
      "Đánh giá trên độ đo MAE: 0.8045991045991046\n",
      "Đánh giá trên độ đo precision: 0.27662538699690403\n",
      "Đánh giá trên độ đo recall: 0.2222456752168127\n",
      "Đánh giá trên độ đo f1_score: 0.19974481658692184\n"
     ]
    },
    {
     "output_type": "stream",
     "name": "stderr",
     "text": [
      "/usr/local/lib/python3.7/dist-packages/sklearn/metrics/_classification.py:1308: UndefinedMetricWarning: Precision is ill-defined and being set to 0.0 in labels with no predicted samples. Use `zero_division` parameter to control this behavior.\n",
      "  _warn_prf(average, modifier, msg_start, len(result))\n"
     ]
    }
   ]
  },
  {
   "cell_type": "markdown",
   "metadata": {
    "id": "iNSPRi_gFHTs"
   },
   "source": [
    "## Dự đoán và đánh giá bằng pp KDG và cosine"
   ]
  },
  {
   "cell_type": "code",
   "metadata": {
    "id": "ILcWVMU4Fd62",
    "colab": {
     "base_uri": "https://localhost:8080/"
    },
    "executionInfo": {
     "status": "ok",
     "timestamp": 1640421018280,
     "user_tz": -420,
     "elapsed": 552887,
     "user": {
      "displayName": "Tri Nguyen Duc",
      "photoUrl": "https://lh3.googleusercontent.com/a/default-user=s64",
      "userId": "11271696257689674804"
     }
    },
    "outputId": "b26e43d0-bffe-44a1-992a-d94bb52322e9"
   },
   "source": [
    "import time\n",
    "start = time.time()\n",
    "user = \"U1\"\n",
    "number_similar = 10\n",
    "metrics_rating = \"kdg\" # 1 trong 3 [\"tbdg\", \"tbdgctg\", \"kdg\"]\n",
    "metrics_similar = \"cosine\" # 1 trong 2 [\"cosine\", \"peason\"]\n",
    "X_test_pred_rating = get_recommendation_4test_item(test, number_similar, metrics_rating, metrics_similar)\n",
    "\n",
    "end = time.time()\n",
    "\n",
    "print(\"Tổng thời gian dự đoán :\", end - start)"
   ],
   "execution_count": null,
   "outputs": [
    {
     "output_type": "stream",
     "name": "stdout",
     "text": [
      "Dự đoán cho tập test với 117 điểm dữ liệu\n",
      "----------dự đoán cho dòng thứ 0 là 0\n",
      "----------dự đoán cho dòng thứ 1 là 3.333828363578004\n",
      "----------dự đoán cho dòng thứ 2 là 3.327110157052952\n",
      "----------dự đoán cho dòng thứ 3 là 4.9636010182835975\n",
      "----------dự đoán cho dòng thứ 4 là 3.36031808039795\n",
      "----------dự đoán cho dòng thứ 5 là 4.463100098195268\n",
      "----------dự đoán cho dòng thứ 6 là 3.8735166633680618\n",
      "----------dự đoán cho dòng thứ 7 là 3.5840609736729006\n",
      "----------dự đoán cho dòng thứ 8 là 4.9636010182835975\n",
      "----------dự đoán cho dòng thứ 9 là 5.158049312946463\n",
      "----------dự đoán cho dòng thứ 10 là 2.9424599354850467\n",
      "----------dự đoán cho dòng thứ 11 là 0\n",
      "----------dự đoán cho dòng thứ 12 là 2.8182322328715466\n",
      "----------dự đoán cho dòng thứ 13 là 3.9787615754801338\n",
      "----------dự đoán cho dòng thứ 14 là 1.710801393728223\n",
      "----------dự đoán cho dòng thứ 15 là 4.481836571163448\n",
      "----------dự đoán cho dòng thứ 16 là 3.418115466658739\n",
      "----------dự đoán cho dòng thứ 17 là 4.082877286985849\n",
      "----------dự đoán cho dòng thứ 18 là 3.2235449735449735\n",
      "----------dự đoán cho dòng thứ 19 là 0\n",
      "----------dự đoán cho dòng thứ 20 là 2.3120422401924836\n",
      "----------dự đoán cho dòng thứ 21 là 0\n",
      "----------dự đoán cho dòng thứ 22 là 4.404673981086443\n",
      "----------dự đoán cho dòng thứ 23 là 4.107089895517495\n",
      "----------dự đoán cho dòng thứ 24 là 2.153924917229137\n",
      "----------dự đoán cho dòng thứ 25 là 0\n",
      "----------dự đoán cho dòng thứ 26 là 3.464101938371928\n",
      "----------dự đoán cho dòng thứ 27 là 1.464101938371928\n",
      "----------dự đoán cho dòng thứ 28 là 3.464101938371928\n",
      "----------dự đoán cho dòng thứ 29 là 3.825539090826628\n",
      "----------dự đoán cho dòng thứ 30 là 3.1144157752965187\n",
      "----------dự đoán cho dòng thứ 31 là 4.084464840200553\n",
      "----------dự đoán cho dòng thứ 32 là 0\n",
      "----------dự đoán cho dòng thứ 33 là 3.483333333333334\n",
      "----------dự đoán cho dòng thứ 34 là 3.4631000981952678\n",
      "----------dự đoán cho dòng thứ 35 là 3.8847311414616166\n",
      "----------dự đoán cho dòng thứ 36 là 4.483333333333334\n",
      "----------dự đoán cho dòng thứ 37 là 3.667460694153667\n",
      "----------dự đoán cho dòng thứ 38 là 3.9202781665443625\n",
      "----------dự đoán cho dòng thứ 39 là 4.39746233148295\n",
      "----------dự đoán cho dòng thứ 40 là 4.582962549401094\n",
      "----------dự đoán cho dòng thứ 41 là 5.158049312946463\n",
      "----------dự đoán cho dòng thứ 42 là 0\n",
      "----------dự đoán cho dòng thứ 43 là 4.39746233148295\n",
      "----------dự đoán cho dòng thứ 44 là 4.14902018102197\n",
      "----------dự đoán cho dòng thứ 45 là 4.590324117798792\n",
      "----------dự đoán cho dòng thứ 46 là 4.160520448163061\n",
      "----------dự đoán cho dòng thứ 47 là 4.223544973544973\n",
      "----------dự đoán cho dòng thứ 48 là 3.9004106823349844\n",
      "----------dự đoán cho dòng thứ 49 là 4.161163545559306\n",
      "----------dự đoán cho dòng thứ 50 là 0\n",
      "----------dự đoán cho dòng thứ 51 là 4.0209732335985136\n",
      "----------dự đoán cho dòng thứ 52 là 3.159260084336795\n",
      "----------dự đoán cho dòng thứ 53 là 5.027754160522394\n",
      "----------dự đoán cho dòng thứ 54 là 0\n",
      "----------dự đoán cho dòng thứ 55 là 3.6626096763286573\n",
      "----------dự đoán cho dòng thứ 56 là 3.1747577709533084\n",
      "----------dự đoán cho dòng thứ 57 là 2.906264627966094\n",
      "----------dự đoán cho dòng thứ 58 là 3.9225225225225224\n",
      "----------dự đoán cho dòng thứ 59 là 3.923530957857047\n",
      "----------dự đoán cho dòng thứ 60 là 3.8354676643115972\n",
      "----------dự đoán cho dòng thứ 61 là 3.483333333333334\n",
      "----------dự đoán cho dòng thứ 62 là 2.925450465958395\n",
      "----------dự đoán cho dòng thứ 63 là 2.860553227292449\n",
      "----------dự đoán cho dòng thứ 64 là 3.66297277477197\n",
      "----------dự đoán cho dòng thứ 65 là 2.3824494259158007\n",
      "----------dự đoán cho dòng thứ 66 là 4.069905963554998\n",
      "----------dự đoán cho dòng thứ 67 là 0\n",
      "----------dự đoán cho dòng thứ 68 là 3.2235449735449735\n",
      "----------dự đoán cho dòng thứ 69 là 2.3974623314829504\n",
      "----------dự đoán cho dòng thứ 70 là 2.860553227292449\n",
      "----------dự đoán cho dòng thứ 71 là 4.20051014379442\n",
      "----------dự đoán cho dòng thứ 72 là 3.3974623314829504\n",
      "----------dự đoán cho dòng thứ 73 là 5.0846833182838065\n",
      "----------dự đoán cho dòng thứ 74 là 4.60253766851705\n",
      "----------dự đoán cho dòng thứ 75 là 2.862714602913268\n",
      "----------dự đoán cho dòng thứ 76 là 2.520305564265802\n",
      "----------dự đoán cho dòng thứ 77 là 3.2235449735449735\n",
      "----------dự đoán cho dòng thứ 78 là 5.60253766851705\n",
      "----------dự đoán cho dòng thứ 79 là 2.3824494259158007\n",
      "----------dự đoán cho dòng thứ 80 là 3.2235449735449735\n",
      "----------dự đoán cho dòng thứ 81 là 4.903085826767782\n",
      "----------dự đoán cho dòng thứ 82 là 3.222022785011428\n",
      "----------dự đoán cho dòng thứ 83 là 4.199693191270219\n",
      "----------dự đoán cho dòng thứ 84 là 3.557030830196297\n",
      "----------dự đoán cho dòng thứ 85 là 3.5083332597429986\n",
      "----------dự đoán cho dòng thứ 86 là 2.9225225225225224\n",
      "----------dự đoán cho dòng thứ 87 là 3.3974623314829504\n",
      "----------dự đoán cho dòng thứ 88 là 2.876173948390372\n",
      "----------dự đoán cho dòng thứ 89 là 2.2003931816290834\n",
      "----------dự đoán cho dòng thứ 90 là 1.710801393728223\n",
      "----------dự đoán cho dòng thứ 91 là 3.242583617958827\n",
      "----------dự đoán cho dòng thứ 92 là 3.9876855152962327\n",
      "----------dự đoán cho dòng thứ 93 là 4.39746233148295\n",
      "----------dự đoán cho dòng thứ 94 là 4.083657107145248\n",
      "----------dự đoán cho dòng thứ 95 là 3.343588949197035\n",
      "----------dự đoán cho dòng thứ 96 là 0\n",
      "----------dự đoán cho dòng thứ 97 là 0\n",
      "----------dự đoán cho dòng thứ 98 là 0\n",
      "----------dự đoán cho dòng thứ 99 là 4.705547652916074\n",
      "----------dự đoán cho dòng thứ 100 là 3.8257037396234526\n",
      "----------dự đoán cho dòng thứ 101 là 3.860553227292449\n",
      "----------dự đoán cho dòng thứ 102 là 3.397355573960219\n",
      "----------dự đoán cho dòng thứ 103 là 4.708135593220339\n",
      "----------dự đoán cho dòng thứ 104 là 3.81432669022755\n",
      "----------dự đoán cho dòng thứ 105 là 4.4909339457377895\n",
      "----------dự đoán cho dòng thứ 106 là 3.6447167497713497\n",
      "----------dự đoán cho dòng thứ 107 là 4.321866257509031\n",
      "----------dự đoán cho dòng thứ 108 là 2.481163579242982\n",
      "----------dự đoán cho dòng thứ 109 là 3.35311053405974\n",
      "----------dự đoán cho dòng thứ 110 là 2.860553227292449\n",
      "----------dự đoán cho dòng thứ 111 là 3.6053388501260777\n",
      "----------dự đoán cho dòng thứ 112 là 5.004761904761905\n",
      "----------dự đoán cho dòng thứ 113 là 2.5786554205534262\n",
      "----------dự đoán cho dòng thứ 114 là 4.464101938371928\n",
      "----------dự đoán cho dòng thứ 115 là 3.2684451149590674\n",
      "----------dự đoán cho dòng thứ 116 là 4.279181900419754\n",
      "Tổng thời gian dự đoán : 552.6679685115814\n"
     ]
    }
   ]
  },
  {
   "cell_type": "code",
   "metadata": {
    "id": "Nx8aDrhJFiT5",
    "colab": {
     "base_uri": "https://localhost:8080/"
    },
    "executionInfo": {
     "status": "ok",
     "timestamp": 1640421018281,
     "user_tz": -420,
     "elapsed": 28,
     "user": {
      "displayName": "Tri Nguyen Duc",
      "photoUrl": "https://lh3.googleusercontent.com/a/default-user=s64",
      "userId": "11271696257689674804"
     }
    },
    "outputId": "6b33f690-467d-4ecc-ceda-d28f5ca6d354"
   },
   "source": [
    "X_test_pred_rating = list(np.where(np.isnan(X_test_pred_rating), 0, X_test_pred_rating))\n",
    "\n",
    "X_test_pred_rating_select = []\n",
    "X_test_true_rating_select = []\n",
    "\n",
    "for i in range(len(X_test_pred_rating)):\n",
    "    if (X_test_pred_rating[i] != 0):\n",
    "        X_test_pred_rating_select.append(X_test_pred_rating[i])\n",
    "        X_test_true_rating_select.append(test['rating'].tolist()[i])\n",
    "        X_test_pred_rating_select_round = [round(num) for num in X_test_pred_rating_select]\n",
    "\n",
    "mse = mean_squared_error(X_test_true_rating_select, X_test_pred_rating_select)\n",
    "rmse = math.sqrt(mse)\n",
    "mae = mean_absolute_error(X_test_true_rating_select, X_test_pred_rating_select)\n",
    "\n",
    "precision = precision_score(X_test_true_rating_select, X_test_pred_rating_select_round,average='macro')\n",
    "recall = recall_score(X_test_true_rating_select, X_test_pred_rating_select_round,average='macro')\n",
    "f1 = f1_score(X_test_true_rating_select, X_test_pred_rating_select_round, average='macro')\n",
    "#X_test_true_rating_select.sort(reverse = True)\n",
    "#max = X_test_true_rating_select[0]\n",
    "#min = X_test_true_rating_select[len(X_test_true_rating_select)-1]\n",
    "#nmae = mae/(max-min)\n",
    "print('---------------------------------')\n",
    "#print('Đánh giá trên độ đo MSE:', mse)\n",
    "print('Đánh giá trên độ đo RMSE:', rmse)\n",
    "print('Đánh giá trên độ đo MAE:', mae)\n",
    "#print('Đánh giá trên độ đo NMAE:', nmae)\n",
    "print('Đánh giá trên độ đo precision:', precision)\n",
    "print('Đánh giá trên độ đo recall:', recall)\n",
    "print('Đánh giá trên độ đo f1_score:', f1)"
   ],
   "execution_count": null,
   "outputs": [
    {
     "output_type": "stream",
     "name": "stdout",
     "text": [
      "---------------------------------\n",
      "Đánh giá trên độ đo RMSE: 1.0809289596374347\n",
      "Đánh giá trên độ đo MAE: 0.8501236274416227\n",
      "Đánh giá trên độ đo precision: 0.2787166537166537\n",
      "Đánh giá trên độ đo recall: 0.2650595218031258\n",
      "Đánh giá trên độ đo f1_score: 0.2584357926035395\n"
     ]
    },
    {
     "output_type": "stream",
     "name": "stderr",
     "text": [
      "/usr/local/lib/python3.7/dist-packages/sklearn/metrics/_classification.py:1308: UndefinedMetricWarning: Recall is ill-defined and being set to 0.0 in labels with no true samples. Use `zero_division` parameter to control this behavior.\n",
      "  _warn_prf(average, modifier, msg_start, len(result))\n"
     ]
    }
   ]
  },
  {
   "cell_type": "markdown",
   "metadata": {
    "id": "weyRdZRCFNm8"
   },
   "source": [
    "## Dự đoán và đánh giá bằng pp KDG và peason"
   ]
  },
  {
   "cell_type": "code",
   "metadata": {
    "id": "OGw8r6UaFjDM",
    "colab": {
     "base_uri": "https://localhost:8080/"
    },
    "executionInfo": {
     "status": "ok",
     "timestamp": 1640421763047,
     "user_tz": -420,
     "elapsed": 744790,
     "user": {
      "displayName": "Tri Nguyen Duc",
      "photoUrl": "https://lh3.googleusercontent.com/a/default-user=s64",
      "userId": "11271696257689674804"
     }
    },
    "outputId": "1725c869-230c-41fa-e431-148ecdcd6d32"
   },
   "source": [
    "import time\n",
    "start = time.time()\n",
    "user = \"U1\"\n",
    "number_similar = 10\n",
    "metrics_rating = \"kdg\" # 1 trong 3 [\"tbdg\", \"tbdgctg\", \"kdg\"]\n",
    "metrics_similar = \"pearson\" # 1 trong 2 [\"cosine\", \"peason\"]\n",
    "X_test_pred_rating = get_recommendation_4test_item(test, number_similar, metrics_rating, metrics_similar)\n",
    "\n",
    "end = time.time()\n",
    "\n",
    "print(\"Tổng thời gian dự đoán :\", end - start)"
   ],
   "execution_count": null,
   "outputs": [
    {
     "output_type": "stream",
     "name": "stdout",
     "text": [
      "Dự đoán cho tập test với 117 điểm dữ liệu\n",
      "----------dự đoán cho dòng thứ 0 là 3.6771550983447683\n",
      "----------dự đoán cho dòng thứ 1 là 3.2934803379766837\n",
      "----------dự đoán cho dòng thứ 2 là 3.368114283991328\n",
      "----------dự đoán cho dòng thứ 3 là 5.03087913889123\n",
      "----------dự đoán cho dòng thứ 4 là 3.6573732250783775\n",
      "----------dự đoán cho dòng thứ 5 là 4.660471718256191\n",
      "----------dự đoán cho dòng thứ 6 là 3.900140632257229\n",
      "----------dự đoán cho dòng thứ 7 là 3.3887873012053427\n",
      "----------dự đoán cho dòng thứ 8 là 4.965275174176311\n",
      "----------dự đoán cho dòng thứ 9 là 4.767051685484217\n",
      "----------dự đoán cho dòng thứ 10 là 2.6578916601957596\n",
      "----------dự đoán cho dòng thứ 11 là 4.329175138529981\n",
      "----------dự đoán cho dòng thứ 12 là 2.965796501747763\n",
      "----------dự đoán cho dòng thứ 13 là 4.395971435389873\n",
      "----------dự đoán cho dòng thứ 14 là 2.1815281039748564\n",
      "----------dự đoán cho dòng thứ 15 là 4.230278790153998\n",
      "----------dự đoán cho dòng thứ 16 là 3.120962471374612\n",
      "----------dự đoán cho dòng thứ 17 là 4.209490361880039\n",
      "----------dự đoán cho dòng thứ 18 là 2.96209144423214\n",
      "----------dự đoán cho dòng thứ 19 là 3.6771550983447683\n",
      "----------dự đoán cho dòng thứ 20 là 1.7023369353211495\n",
      "----------dự đoán cho dòng thứ 21 là 3.583939730587527\n",
      "----------dự đoán cho dòng thứ 22 là 3.715592307156775\n",
      "----------dự đoán cho dòng thứ 23 là 4.19595166577931\n",
      "----------dự đoán cho dòng thứ 24 là 2.9496428347652675\n",
      "----------dự đoán cho dòng thứ 25 là 3.5392113141680803\n",
      "----------dự đoán cho dòng thứ 26 là 3.4012865595262696\n",
      "----------dự đoán cho dòng thứ 27 là 1.8583845771057628\n",
      "----------dự đoán cho dòng thứ 28 là 3.6298355683160164\n",
      "----------dự đoán cho dòng thứ 29 là 4.229419885097958\n",
      "----------dự đoán cho dòng thứ 30 là 3.212695514709206\n",
      "----------dự đoán cho dòng thứ 31 là 3.7015648578683558\n",
      "----------dự đoán cho dòng thứ 32 là 3.5642022024346294\n",
      "----------dự đoán cho dòng thứ 33 là 3.56259242680229\n",
      "----------dự đoán cho dòng thứ 34 là 2.9748246918869503\n",
      "----------dự đoán cho dòng thứ 35 là 3.9836372862221494\n",
      "----------dự đoán cho dòng thứ 36 là 4.620560447048838\n",
      "----------dự đoán cho dòng thứ 37 là 4.068085186060319\n",
      "----------dự đoán cho dòng thứ 38 là 3.8050371551397126\n",
      "----------dự đoán cho dòng thứ 39 là 4.555559080501533\n",
      "----------dự đoán cho dòng thứ 40 là 4.664202578383388\n",
      "----------dự đoán cho dòng thứ 41 là 4.008148077826498\n",
      "----------dự đoán cho dòng thứ 42 là 4.565556439805266\n",
      "----------dự đoán cho dòng thứ 43 là 3.3929499404902823\n",
      "----------dự đoán cho dòng thứ 44 là 4.03119983252929\n",
      "----------dự đoán cho dòng thứ 45 là 3.8401229743846326\n",
      "----------dự đoán cho dòng thứ 46 là 3.7261986287938864\n",
      "----------dự đoán cho dòng thứ 47 là 3.8765445321797225\n",
      "----------dự đoán cho dòng thứ 48 là 4.170602013169654\n",
      "----------dự đoán cho dòng thứ 49 là 4.319711520599295\n",
      "----------dự đoán cho dòng thứ 50 là 4.819338286184454\n",
      "----------dự đoán cho dòng thứ 51 là 4.469201518073776\n",
      "----------dự đoán cho dòng thứ 52 là 3.1678212868154976\n"
     ]
    },
    {
     "output_type": "stream",
     "name": "stderr",
     "text": [
      "/usr/local/lib/python3.7/dist-packages/ipykernel_launcher.py:18: RuntimeWarning: invalid value encountered in double_scalars\n"
     ]
    },
    {
     "output_type": "stream",
     "name": "stdout",
     "text": [
      "----------dự đoán cho dòng thứ 53 là 4.984394360408602\n",
      "----------dự đoán cho dòng thứ 54 là 3.3554700339867596\n",
      "----------dự đoán cho dòng thứ 55 là 3.7836710056329386\n",
      "----------dự đoán cho dòng thứ 56 là 3.0975209776248533\n",
      "----------dự đoán cho dòng thứ 57 là 3.335214664202759\n",
      "----------dự đoán cho dòng thứ 58 là 4.199161684986175\n",
      "----------dự đoán cho dòng thứ 59 là 4.043417164613546\n",
      "----------dự đoán cho dòng thứ 60 là 3.1970023449317946\n",
      "----------dự đoán cho dòng thứ 61 là 4.0735927975376525\n",
      "----------dự đoán cho dòng thứ 62 là 3.5099536550247303\n",
      "----------dự đoán cho dòng thứ 63 là 3.44031346523018\n",
      "----------dự đoán cho dòng thứ 64 là 3.7054520175714734\n",
      "----------dự đoán cho dòng thứ 65 là 3.3616152139967794\n",
      "----------dự đoán cho dòng thứ 66 là 4.1437818906069515\n",
      "----------dự đoán cho dòng thứ 67 là 3.258836346823409\n",
      "----------dự đoán cho dòng thứ 68 là 3.345800701790289\n",
      "----------dự đoán cho dòng thứ 69 là 2.6274351036174894\n",
      "----------dự đoán cho dòng thứ 70 là 3.421320911127834\n",
      "----------dự đoán cho dòng thứ 71 là 3.768450661680335\n",
      "----------dự đoán cho dòng thứ 72 là 4.155714308162433\n",
      "----------dự đoán cho dòng thứ 73 là 5.102111056569859\n",
      "----------dự đoán cho dòng thứ 74 là 3.840868613022533\n",
      "----------dự đoán cho dòng thứ 75 là 3.2696531131010973\n",
      "----------dự đoán cho dòng thứ 76 là 3.236992102666636\n",
      "----------dự đoán cho dòng thứ 77 là 3.470302334017499\n",
      "----------dự đoán cho dòng thứ 78 là 5.552625866037319\n",
      "----------dự đoán cho dòng thứ 79 là 1.9912171241894938\n",
      "----------dự đoán cho dòng thứ 80 là 3.4941590723146714\n",
      "----------dự đoán cho dòng thứ 81 là 4.488368751004998\n",
      "----------dự đoán cho dòng thứ 82 là 3.404198076550142\n",
      "----------dự đoán cho dòng thứ 83 là 4.179937606135459\n",
      "----------dự đoán cho dòng thứ 84 là 3.7010190261192433\n",
      "----------dự đoán cho dòng thứ 85 là 3.7071816088834666\n",
      "----------dự đoán cho dòng thứ 86 là 3.3832788944744934\n",
      "----------dự đoán cho dòng thứ 87 là 2.783725226876734\n",
      "----------dự đoán cho dòng thứ 88 là 3.1425525765308784\n",
      "----------dự đoán cho dòng thứ 89 là 3.0485440147731064\n",
      "----------dự đoán cho dòng thứ 90 là 2.6349421456270523\n",
      "----------dự đoán cho dòng thứ 91 là 3.313311334188689\n",
      "----------dự đoán cho dòng thứ 92 là 3.7890936398705\n",
      "----------dự đoán cho dòng thứ 93 là 4.429143979847859\n",
      "----------dự đoán cho dòng thứ 94 là 3.8585391511079767\n",
      "----------dự đoán cho dòng thứ 95 là 4.345255323900247\n",
      "----------dự đoán cho dòng thứ 96 là 3.1777753071298283\n",
      "----------dự đoán cho dòng thứ 97 là 3.6629086482421642\n",
      "----------dự đoán cho dòng thứ 98 là 3.900428022054636\n",
      "----------dự đoán cho dòng thứ 99 là 4.474024564397096\n",
      "----------dự đoán cho dòng thứ 100 là 3.813235800055505\n",
      "----------dự đoán cho dòng thứ 101 là 3.6835833000612785\n",
      "----------dự đoán cho dòng thứ 102 là 3.289671126624147\n",
      "----------dự đoán cho dòng thứ 103 là 4.269092014460486\n",
      "----------dự đoán cho dòng thứ 104 là 3.930679212709992\n",
      "----------dự đoán cho dòng thứ 105 là 4.235778968253032\n",
      "----------dự đoán cho dòng thứ 106 là 3.4482818545095455\n",
      "----------dự đoán cho dòng thứ 107 là 4.104641014942643\n",
      "----------dự đoán cho dòng thứ 108 là 3.1002556996496637\n",
      "----------dự đoán cho dòng thứ 109 là 2.802339052389721\n",
      "----------dự đoán cho dòng thứ 110 là 2.8477330271380596\n",
      "----------dự đoán cho dòng thứ 111 là 3.564098254347655\n",
      "----------dự đoán cho dòng thứ 112 là 4.368606525668582\n",
      "----------dự đoán cho dòng thứ 113 là 3.3523427158664068\n",
      "----------dự đoán cho dòng thứ 114 là 4.172737550736523\n",
      "----------dự đoán cho dòng thứ 115 là 3.2677576334515788\n",
      "----------dự đoán cho dòng thứ 116 là 4.616164409459411\n",
      "Tổng thời gian dự đoán : 744.816997051239\n"
     ]
    }
   ]
  },
  {
   "cell_type": "code",
   "metadata": {
    "id": "80OaoN8qFpDG",
    "colab": {
     "base_uri": "https://localhost:8080/"
    },
    "executionInfo": {
     "status": "ok",
     "timestamp": 1640421763048,
     "user_tz": -420,
     "elapsed": 14,
     "user": {
      "displayName": "Tri Nguyen Duc",
      "photoUrl": "https://lh3.googleusercontent.com/a/default-user=s64",
      "userId": "11271696257689674804"
     }
    },
    "outputId": "6109ceb5-cddd-4411-98e7-dacfc047a9fc"
   },
   "source": [
    "X_test_pred_rating = list(np.where(np.isnan(X_test_pred_rating), 0, X_test_pred_rating))\n",
    "\n",
    "X_test_pred_rating_select = []\n",
    "X_test_true_rating_select = []\n",
    "\n",
    "for i in range(len(X_test_pred_rating)):\n",
    "    if (X_test_pred_rating[i] != 0):\n",
    "        X_test_pred_rating_select.append(X_test_pred_rating[i])\n",
    "        X_test_true_rating_select.append(test['rating'].tolist()[i])\n",
    "        X_test_pred_rating_select_round = [round(num) for num in X_test_pred_rating_select]\n",
    "\n",
    "mse = mean_squared_error(X_test_true_rating_select, X_test_pred_rating_select)\n",
    "rmse = math.sqrt(mse)\n",
    "mae = mean_absolute_error(X_test_true_rating_select, X_test_pred_rating_select)\n",
    "\n",
    "precision = precision_score(X_test_true_rating_select, X_test_pred_rating_select_round,average='macro')\n",
    "recall = recall_score(X_test_true_rating_select, X_test_pred_rating_select_round,average='macro')\n",
    "f1 = f1_score(X_test_true_rating_select, X_test_pred_rating_select_round, average='macro')\n",
    "#X_test_true_rating_select.sort(reverse = True)\n",
    "#max = X_test_true_rating_select[0]\n",
    "#min = X_test_true_rating_select[len(X_test_true_rating_select)-1]\n",
    "#nmae = mae/(max-min)\n",
    "print('---------------------------------')\n",
    "#print('Đánh giá trên độ đo MSE:', mse)\n",
    "print('Đánh giá trên độ đo RMSE:', rmse)\n",
    "print('Đánh giá trên độ đo MAE:', mae)\n",
    "#print('Đánh giá trên độ đo NMAE:', nmae)\n",
    "print('Đánh giá trên độ đo precision:', precision)\n",
    "print('Đánh giá trên độ đo recall:', recall)\n",
    "print('Đánh giá trên độ đo f1_score:', f1)"
   ],
   "execution_count": null,
   "outputs": [
    {
     "output_type": "stream",
     "name": "stdout",
     "text": [
      "---------------------------------\n",
      "Đánh giá trên độ đo RMSE: 0.925214053911023\n",
      "Đánh giá trên độ đo MAE: 0.746055875087061\n",
      "Đánh giá trên độ đo precision: 0.32396004378763\n",
      "Đánh giá trên độ đo recall: 0.2408093577448416\n",
      "Đánh giá trên độ đo f1_score: 0.24838116894697956\n"
     ]
    },
    {
     "output_type": "stream",
     "name": "stderr",
     "text": [
      "/usr/local/lib/python3.7/dist-packages/sklearn/metrics/_classification.py:1308: UndefinedMetricWarning: Precision is ill-defined and being set to 0.0 in labels with no predicted samples. Use `zero_division` parameter to control this behavior.\n",
      "  _warn_prf(average, modifier, msg_start, len(result))\n",
      "/usr/local/lib/python3.7/dist-packages/sklearn/metrics/_classification.py:1308: UndefinedMetricWarning: Recall is ill-defined and being set to 0.0 in labels with no true samples. Use `zero_division` parameter to control this behavior.\n",
      "  _warn_prf(average, modifier, msg_start, len(result))\n"
     ]
    }
   ]
  },
  {
   "cell_type": "markdown",
   "source": [
    "# Đánh giá bằng MRR và NDCG"
   ],
   "metadata": {
    "id": "1vIWdoVsXPxg"
   }
  },
  {
   "cell_type": "markdown",
   "source": [
    "## Các hàm dùng chung"
   ],
   "metadata": {
    "id": "yzLCMkpaffEd"
   }
  },
  {
   "cell_type": "code",
   "source": [
    "GroundTruth = pd.read_csv(path + \"/groundtruth.csv\")"
   ],
   "metadata": {
    "id": "sCwq8CYEXSz5"
   },
   "execution_count": null,
   "outputs": []
  },
  {
   "cell_type": "code",
   "source": [
    "def Get_rating_for_each_user(ListUser, number_of_food, metrics_rating, metric_similar):\n",
    "    Recommend_for_ranking = []\n",
    "    for foodid in list(train.FoodId.unique()):\n",
    "        food_recommend = get_recommendation_item(foodid, number_of_food, metrics_rating, metric_similar)\n",
    "        for item in food_recommend:\n",
    "            if item[0] in ListUser:\n",
    "                item_new = (foodid,) + item\n",
    "                Recommend_for_ranking.append(item_new)\n",
    "    return Recommend_for_ranking"
   ],
   "metadata": {
    "id": "IH4-BLFTXhAe"
   },
   "execution_count": null,
   "outputs": []
  },
  {
   "cell_type": "code",
   "source": [
    "def Get_Predict_List(Recommend_list, userid, number_of_food, metrics_rating, metric_similar):\n",
    "    MRR_predict = []\n",
    "    predict = []\n",
    "    for row in Recommend_list:\n",
    "        if row[1] == userid:\n",
    "            predict.append(row)\n",
    "    if len(predict) > 10:\n",
    "        top_N =10\n",
    "    else:\n",
    "        top_N = len(predict)\n",
    "    predict = predict[:top_N]\n",
    "    ground_truth = GroundTruth.loc[GroundTruth[\"UserID\"] == userid].head(top_N)\n",
    "    for i in range(len(ground_truth)):\n",
    "        if predict[i][0] in list(ground_truth.FoodId):\n",
    "            if (((GroundTruth.loc[GroundTruth[\"FoodId\"] == predict[i][0]].rating.iloc[0]) >= 3) and (predict[i][2] >=3)):\n",
    "                MRR_predict.append(1)\n",
    "            else:\n",
    "                MRR_predict.append(0)\n",
    "        else :\n",
    "            MRR_predict.append(0)\n",
    "    return MRR_predict"
   ],
   "metadata": {
    "id": "lZEoqEVsXZEt"
   },
   "execution_count": null,
   "outputs": []
  },
  {
   "cell_type": "markdown",
   "source": [
    "## Hàm tính MRR"
   ],
   "metadata": {
    "id": "RhD8ThILfh2W"
   }
  },
  {
   "cell_type": "code",
   "source": [
    "def RRu_score(MRR_predict):\n",
    "    RRu = 0\n",
    "    for i in range(len(MRR_predict)):\n",
    "        rr = MRR_predict[i]/(i+1)\n",
    "        RRu+=rr\n",
    "    return RRu"
   ],
   "metadata": {
    "id": "ouCgVnHrbMDt"
   },
   "execution_count": null,
   "outputs": []
  },
  {
   "cell_type": "code",
   "source": [
    "def MRR(ListUser, number_of_user, metrics_rating, metric_similar):\n",
    "    # ListUser: Danh sách các user GroundTruth\n",
    "    # Recommend_List: Danh sách các món được predict cho GroundTruth\n",
    "    # number_of_user: Số user tương đồng\n",
    "    # metrics_rating: Phương pháp đánh giá\n",
    "    # Metric_similar : \"Độ đo cosine\"\n",
    "    # Top N: Số lương Top Danh sách muốn tính cho MRR\n",
    "    # Kết quả trả về là kết quả MRR cho pp tương ứng\n",
    "    MRR = 0\n",
    "    Recommend_list = Get_rating_for_each_user(ListUser, number_of_food, metrics_rating, metric_similar)\n",
    "    for user in ListUser:\n",
    "        MRR_predict = Get_Predict_List(Recommend_list, user, number_of_user, metrics_rating, metric_similar)\n",
    "        RRu = RRu_score(MRR_predict)\n",
    "        MRR += RRu\n",
    "        print(\"MRRu score:\", RRu)\n",
    "    return (1/len(ListUser))*MRR"
   ],
   "metadata": {
    "id": "5os9aeEdbHQt"
   },
   "execution_count": null,
   "outputs": []
  },
  {
   "cell_type": "code",
   "source": [
    "ListUser = [\"U236\", \"U237\", \"U238\", \"U239\", \"U240\"]\n",
    "number_of_food = 10\n",
    "metrics_rating = \"kdg\"\n",
    "metric_similar = \"cosine\"\n",
    "MRR_score = MRR(ListUser, number_of_food, metrics_rating, metric_similar)"
   ],
   "metadata": {
    "colab": {
     "base_uri": "https://localhost:8080/"
    },
    "id": "iwhpTuKBbJqn",
    "executionInfo": {
     "status": "ok",
     "timestamp": 1640421882673,
     "user_tz": -420,
     "elapsed": 119632,
     "user": {
      "displayName": "Tri Nguyen Duc",
      "photoUrl": "https://lh3.googleusercontent.com/a/default-user=s64",
      "userId": "11271696257689674804"
     }
    },
    "outputId": "64057a0f-f985-431e-cec8-6e2682bb7394"
   },
   "execution_count": null,
   "outputs": [
    {
     "output_type": "stream",
     "name": "stdout",
     "text": [
      "MRRu score: 0.25\n",
      "MRRu score: 0.26785714285714285\n",
      "MRRu score: 1.7845238095238096\n",
      "MRRu score: 2.141666666666667\n",
      "MRRu score: 1.2\n"
     ]
    }
   ]
  },
  {
   "cell_type": "code",
   "source": [
    "print(MRR_score)"
   ],
   "metadata": {
    "colab": {
     "base_uri": "https://localhost:8080/"
    },
    "id": "wXKaaMp9foZt",
    "executionInfo": {
     "status": "ok",
     "timestamp": 1640421882674,
     "user_tz": -420,
     "elapsed": 10,
     "user": {
      "displayName": "Tri Nguyen Duc",
      "photoUrl": "https://lh3.googleusercontent.com/a/default-user=s64",
      "userId": "11271696257689674804"
     }
    },
    "outputId": "b7f3348a-70f5-421e-e071-63ab001e0a0a"
   },
   "execution_count": null,
   "outputs": [
    {
     "output_type": "stream",
     "name": "stdout",
     "text": [
      "1.128809523809524\n"
     ]
    }
   ]
  },
  {
   "cell_type": "code",
   "source": [
    "ListUser = [\"U236\", \"U237\", \"U238\", \"U239\", \"U240\"]\n",
    "number_of_food = 10\n",
    "metrics_rating = \"kdg\"\n",
    "metric_similar = \"pearson\"\n",
    "MRR_score = MRR(ListUser, number_of_food, metrics_rating, metric_similar)"
   ],
   "metadata": {
    "colab": {
     "base_uri": "https://localhost:8080/"
    },
    "id": "ovRyQ4k3fnmn",
    "executionInfo": {
     "status": "ok",
     "timestamp": 1640422041494,
     "user_tz": -420,
     "elapsed": 158826,
     "user": {
      "displayName": "Tri Nguyen Duc",
      "photoUrl": "https://lh3.googleusercontent.com/a/default-user=s64",
      "userId": "11271696257689674804"
     }
    },
    "outputId": "5c80084a-1834-4474-93d1-bec6b7ddea64"
   },
   "execution_count": null,
   "outputs": [
    {
     "output_type": "stream",
     "name": "stderr",
     "text": [
      "/usr/local/lib/python3.7/dist-packages/ipykernel_launcher.py:18: RuntimeWarning: invalid value encountered in double_scalars\n"
     ]
    },
    {
     "output_type": "stream",
     "name": "stdout",
     "text": [
      "MRRu score: 0.25\n",
      "MRRu score: 0.325\n",
      "MRRu score: 1.7845238095238096\n",
      "MRRu score: 2.041666666666667\n",
      "MRRu score: 0.2\n"
     ]
    }
   ]
  },
  {
   "cell_type": "code",
   "source": [
    "print(MRR_score)"
   ],
   "metadata": {
    "colab": {
     "base_uri": "https://localhost:8080/"
    },
    "id": "0JuYUaM0fvW5",
    "executionInfo": {
     "status": "ok",
     "timestamp": 1640422041496,
     "user_tz": -420,
     "elapsed": 29,
     "user": {
      "displayName": "Tri Nguyen Duc",
      "photoUrl": "https://lh3.googleusercontent.com/a/default-user=s64",
      "userId": "11271696257689674804"
     }
    },
    "outputId": "380cd801-0324-4b18-d18a-077e42566f06"
   },
   "execution_count": null,
   "outputs": [
    {
     "output_type": "stream",
     "name": "stdout",
     "text": [
      "0.9202380952380955\n"
     ]
    }
   ]
  },
  {
   "cell_type": "markdown",
   "source": [
    "## Hàm tính NDCG"
   ],
   "metadata": {
    "id": "_oGVmQEXfv2X"
   }
  },
  {
   "cell_type": "code",
   "source": [
    "from sklearn.metrics import ndcg_score\n",
    "import math"
   ],
   "metadata": {
    "id": "NAW6hV20fxDW"
   },
   "execution_count": null,
   "outputs": []
  },
  {
   "cell_type": "code",
   "source": [
    "def DCG_score(predict_ranking):\n",
    "    DCG = 0\n",
    "    for i in range(len(predict_ranking)):\n",
    "        DCG += predict_ranking[i]/math.log2(i+1+1)\n",
    "    return DCG"
   ],
   "metadata": {
    "id": "WLgjzuDLgNHL"
   },
   "execution_count": null,
   "outputs": []
  },
  {
   "cell_type": "code",
   "source": [
    "def iDCG_score(true_ranking):\n",
    "    DCG = 0\n",
    "    for i in range(len(true_ranking)):\n",
    "        DCG += true_ranking[i]/math.log2(i+1+1)\n",
    "    return DCG"
   ],
   "metadata": {
    "id": "mpHO7lSGgPs4"
   },
   "execution_count": null,
   "outputs": []
  },
  {
   "cell_type": "code",
   "source": [
    "def NDCG_for_listUser(ListUser, number_of_user, metrics_rating, metric_similar):\n",
    "    ndcg = 0\n",
    "    for user in ListUser:\n",
    "        Recommend_list = Get_rating_for_each_user(ListUser, number_of_food, metrics_rating, metric_similar)\n",
    "        prec_ranking = Get_Predict_List(Recommend_list, user, number_of_user, metrics_rating, metric_similar)\n",
    "        true_ranking = sorted(prec_ranking, reverse=True)\n",
    "        print(\"predict_ranking\")\n",
    "        print(prec_ranking)\n",
    "        print(\"true_ranking\")\n",
    "        print(true_ranking)\n",
    "        dcg = DCG_score(prec_ranking)\n",
    "        idcg = iDCG_score(true_ranking)\n",
    "        ndcg += dcg/idcg\n",
    "        print(\"ndcg:\", dcg/idcg)\n",
    "    return (1/len(ListUser))*ndcg"
   ],
   "metadata": {
    "id": "jR_kuC2zgRqS"
   },
   "execution_count": null,
   "outputs": []
  },
  {
   "cell_type": "code",
   "source": [
    "ListUser = [\"U236\", \"U237\", \"U238\", \"U239\", \"U240\"]\n",
    "ndcg_score = NDCG_for_listUser(ListUser, 10, \"kdg\", \"cosine\")\n",
    "print(\"NDCG_KDG_cosine\", ndcg_score)"
   ],
   "metadata": {
    "colab": {
     "base_uri": "https://localhost:8080/"
    },
    "id": "LWIr9i0GgTdp",
    "executionInfo": {
     "status": "ok",
     "timestamp": 1640422640027,
     "user_tz": -420,
     "elapsed": 598555,
     "user": {
      "displayName": "Tri Nguyen Duc",
      "photoUrl": "https://lh3.googleusercontent.com/a/default-user=s64",
      "userId": "11271696257689674804"
     }
    },
    "outputId": "54ee3f77-e39a-4cb9-b858-c33423ab2167"
   },
   "execution_count": null,
   "outputs": [
    {
     "output_type": "stream",
     "name": "stdout",
     "text": [
      "predict_ranking\n",
      "[0, 0, 0, 1, 0, 0, 0, 0, 0, 0]\n",
      "true_ranking\n",
      "[1, 0, 0, 0, 0, 0, 0, 0, 0, 0]\n",
      "ndcg: 0.43067655807339306\n",
      "predict_ranking\n",
      "[0, 0, 0, 0, 0, 0, 1, 1, 0, 0]\n",
      "true_ranking\n",
      "[1, 1, 0, 0, 0, 0, 0, 0, 0, 0]\n",
      "ndcg: 0.39780880120575696\n",
      "predict_ranking\n",
      "[1, 0, 0, 1, 0, 1, 1, 1, 0, 1]\n",
      "true_ranking\n",
      "[1, 1, 1, 1, 1, 1, 0, 0, 0, 0]\n",
      "ndcg: 0.8245149522908417\n",
      "predict_ranking\n",
      "[1, 1, 0, 1, 0, 1, 0, 1, 0, 1]\n",
      "true_ranking\n",
      "[1, 1, 1, 1, 1, 1, 0, 0, 0, 0]\n",
      "ndcg: 0.9145683473035053\n",
      "predict_ranking\n",
      "[1, 0, 0, 0, 1, 0, 0, 0, 0, 0]\n",
      "true_ranking\n",
      "[1, 1, 0, 0, 0, 0, 0, 0, 0, 0]\n",
      "ndcg: 0.8503449055347546\n",
      "NDCG_KDG_cosine 0.6835827128816503\n"
     ]
    }
   ]
  },
  {
   "cell_type": "code",
   "source": [
    "ListUser = [\"U236\", \"U237\", \"U238\", \"U239\", \"U240\"]\n",
    "ndcg_score = NDCG_for_listUser(ListUser, 10, \"kdg\", \"pearson\")\n",
    "print(\"NDCG_KDG_pearson\", ndcg_score)"
   ],
   "metadata": {
    "colab": {
     "base_uri": "https://localhost:8080/"
    },
    "id": "8_ajn2cfgVEp",
    "executionInfo": {
     "status": "ok",
     "timestamp": 1640423430547,
     "user_tz": -420,
     "elapsed": 790543,
     "user": {
      "displayName": "Tri Nguyen Duc",
      "photoUrl": "https://lh3.googleusercontent.com/a/default-user=s64",
      "userId": "11271696257689674804"
     }
    },
    "outputId": "81c14c87-26bf-49e1-d931-d07af1c4f0fa"
   },
   "execution_count": null,
   "outputs": [
    {
     "output_type": "stream",
     "name": "stderr",
     "text": [
      "/usr/local/lib/python3.7/dist-packages/ipykernel_launcher.py:18: RuntimeWarning: invalid value encountered in double_scalars\n"
     ]
    },
    {
     "output_type": "stream",
     "name": "stdout",
     "text": [
      "predict_ranking\n",
      "[0, 0, 0, 1, 0, 0, 0, 0, 0, 0]\n",
      "true_ranking\n",
      "[1, 0, 0, 0, 0, 0, 0, 0, 0, 0]\n",
      "ndcg: 0.43067655807339306\n",
      "predict_ranking\n",
      "[0, 0, 0, 0, 1, 0, 0, 1, 0, 0]\n",
      "true_ranking\n",
      "[1, 1, 0, 0, 0, 0, 0, 0, 0, 0]\n",
      "ndcg: 0.430624116386567\n",
      "predict_ranking\n",
      "[1, 0, 0, 1, 0, 1, 1, 1, 0, 1]\n",
      "true_ranking\n",
      "[1, 1, 1, 1, 1, 1, 0, 0, 0, 0]\n",
      "ndcg: 0.8245149522908417\n",
      "predict_ranking\n",
      "[1, 1, 0, 1, 0, 1, 0, 1, 0, 0]\n",
      "true_ranking\n",
      "[1, 1, 1, 1, 1, 0, 0, 0, 0, 0]\n",
      "ndcg: 0.9270192549176082\n",
      "predict_ranking\n",
      "[0, 0, 0, 0, 1, 0, 0, 0, 0, 0]\n",
      "true_ranking\n",
      "[1, 0, 0, 0, 0, 0, 0, 0, 0, 0]\n",
      "ndcg: 0.38685280723454163\n",
      "NDCG_KDG_pearson 0.5999375377805903\n"
     ]
    }
   ]
  }
 ]
}