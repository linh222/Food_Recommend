{
 "nbformat": 4,
 "nbformat_minor": 0,
 "metadata": {
  "colab": {
   "name": "Food data preprocessing.ipynb",
   "provenance": [],
   "authorship_tag": "ABX9TyPFghRWyH0ATsMKL3MPW7y/"
  },
  "kernelspec": {
   "name": "python3",
   "language": "python",
   "display_name": "Python 3 (ipykernel)"
  },
  "language_info": {
   "name": "python"
  },
  "pycharm": {
   "stem_cell": {
    "cell_type": "raw",
    "source": [
     "\n"
    ],
    "metadata": {
     "collapsed": false
    }
   }
  }
 },
 "cells": [
  {
   "cell_type": "code",
   "metadata": {
    "id": "33DKGsNObXIq",
    "executionInfo": {
     "status": "ok",
     "timestamp": 1637483401504,
     "user_tz": -420,
     "elapsed": 320,
     "user": {
      "displayName": "Linh Tran Quang",
      "photoUrl": "https://lh3.googleusercontent.com/a/default-user=s64",
      "userId": "12582483732823357549"
     }
    }
   },
   "source": [
    "import pandas as pd\n",
    "import numpy as np\n",
    "from viet_text_tools import normalize_diacritics\n",
    "from pyvi import ViTokenizer\n",
    "from underthesea import word_tokenize\n",
    "import re\n",
    "\n",
    "from sklearn.feature_extraction.text import CountVectorizer\n",
    "from sklearn.feature_extraction.text import TfidfVectorizer, TfidfTransformer"
   ],
   "execution_count": 1,
   "outputs": [
    {
     "ename": "ModuleNotFoundError",
     "evalue": "No module named 'viet_text_tools'",
     "output_type": "error",
     "traceback": [
      "\u001B[1;31m---------------------------------------------------------------------------\u001B[0m",
      "\u001B[1;31mModuleNotFoundError\u001B[0m                       Traceback (most recent call last)",
      "\u001B[1;32m~\\AppData\\Local\\Temp/ipykernel_16720/3707839938.py\u001B[0m in \u001B[0;36m<module>\u001B[1;34m\u001B[0m\n\u001B[0;32m      1\u001B[0m \u001B[1;32mimport\u001B[0m \u001B[0mpandas\u001B[0m \u001B[1;32mas\u001B[0m \u001B[0mpd\u001B[0m\u001B[1;33m\u001B[0m\u001B[1;33m\u001B[0m\u001B[0m\n\u001B[0;32m      2\u001B[0m \u001B[1;32mimport\u001B[0m \u001B[0mnumpy\u001B[0m \u001B[1;32mas\u001B[0m \u001B[0mnp\u001B[0m\u001B[1;33m\u001B[0m\u001B[1;33m\u001B[0m\u001B[0m\n\u001B[1;32m----> 3\u001B[1;33m \u001B[1;32mfrom\u001B[0m \u001B[0mviet_text_tools\u001B[0m \u001B[1;32mimport\u001B[0m \u001B[0mnormalize_diacritics\u001B[0m\u001B[1;33m\u001B[0m\u001B[1;33m\u001B[0m\u001B[0m\n\u001B[0m\u001B[0;32m      4\u001B[0m \u001B[1;32mfrom\u001B[0m \u001B[0mpyvi\u001B[0m \u001B[1;32mimport\u001B[0m \u001B[0mViTokenizer\u001B[0m\u001B[1;33m\u001B[0m\u001B[1;33m\u001B[0m\u001B[0m\n\u001B[0;32m      5\u001B[0m \u001B[1;32mfrom\u001B[0m \u001B[0munderthesea\u001B[0m \u001B[1;32mimport\u001B[0m \u001B[0mword_tokenize\u001B[0m\u001B[1;33m\u001B[0m\u001B[1;33m\u001B[0m\u001B[0m\n",
      "\u001B[1;31mModuleNotFoundError\u001B[0m: No module named 'viet_text_tools'"
     ]
    }
   ]
  },
  {
   "cell_type": "code",
   "metadata": {
    "id": "xZCgZZ4omUIt"
   },
   "source": [],
   "execution_count": null,
   "outputs": []
  },
  {
   "cell_type": "markdown",
   "metadata": {
    "id": "I12uSr3Fv4Uo"
   },
   "source": [
    "# Food description"
   ]
  },
  {
   "cell_type": "code",
   "execution_count": null,
   "outputs": [],
   "source": [
    "from pathlib import Path\n",
    "path = Path(__file__).parent.parent"
   ],
   "metadata": {
    "collapsed": false,
    "pycharm": {
     "name": "#%%\n"
    }
   }
  },
  {
   "cell_type": "code",
   "metadata": {
    "id": "_xj_Z4Jev33P",
    "executionInfo": {
     "status": "ok",
     "timestamp": 1637480254710,
     "user_tz": -420,
     "elapsed": 677,
     "user": {
      "displayName": "Linh Tran Quang",
      "photoUrl": "https://lh3.googleusercontent.com/a/default-user=s64",
      "userId": "12582483732823357549"
     }
    }
   },
   "source": [
    "df = pd.read_excel(path+\"\\Food_description.xlsx\")"
   ],
   "execution_count": 6,
   "outputs": []
  },
  {
   "cell_type": "code",
   "metadata": {
    "colab": {
     "base_uri": "https://localhost:8080/"
    },
    "id": "M-HmdvBCbbgT",
    "executionInfo": {
     "status": "ok",
     "timestamp": 1637480305770,
     "user_tz": -420,
     "elapsed": 303,
     "user": {
      "displayName": "Linh Tran Quang",
      "photoUrl": "https://lh3.googleusercontent.com/a/default-user=s64",
      "userId": "12582483732823357549"
     }
    },
    "outputId": "f18fbaaa-fd69-4375-f982-46d87ab8fd76"
   },
   "source": [
    "df.columns"
   ],
   "execution_count": 7,
   "outputs": [
    {
     "data": {
      "text/plain": "Index(['FoodID', 'Tên món ăn', 'Vùng miền', 'Thành phần',\n       'Thể loại (nướng, nước, khô, ...)', 'mô tả ngắn gọn ( <100 từ)',\n       'Unnamed: 6'],\n      dtype='object')"
     },
     "execution_count": 7,
     "metadata": {},
     "output_type": "execute_result"
    }
   ]
  },
  {
   "cell_type": "code",
   "metadata": {
    "colab": {
     "base_uri": "https://localhost:8080/"
    },
    "id": "nUg9rYkybqaq",
    "executionInfo": {
     "status": "ok",
     "timestamp": 1637480323486,
     "user_tz": -420,
     "elapsed": 315,
     "user": {
      "displayName": "Linh Tran Quang",
      "photoUrl": "https://lh3.googleusercontent.com/a/default-user=s64",
      "userId": "12582483732823357549"
     }
    },
    "outputId": "ab8a0c6c-4919-476c-adee-6aff919c28e3"
   },
   "source": [
    "df['Vùng miền'].value_counts()"
   ],
   "execution_count": 8,
   "outputs": [
    {
     "data": {
      "text/plain": "Miền Bắc, Miền Trung, Miền Nam     10\nMiền Nam                            6\nMiền Trung                          5\nMiền Bắc                            4\nMiền Trung, Miền Nam                2\nKhắp cả nước                        1\nMiền Trung, Miền Bắc                1\nMiền Bắc , Miền Trung, Miền Nam     1\nName: Vùng miền, dtype: int64"
     },
     "execution_count": 8,
     "metadata": {},
     "output_type": "execute_result"
    }
   ]
  },
  {
   "cell_type": "code",
   "metadata": {
    "id": "XxSZFkbJb89K",
    "executionInfo": {
     "status": "ok",
     "timestamp": 1637480663099,
     "user_tz": -420,
     "elapsed": 297,
     "user": {
      "displayName": "Linh Tran Quang",
      "photoUrl": "https://lh3.googleusercontent.com/a/default-user=s64",
      "userId": "12582483732823357549"
     }
    }
   },
   "source": [
    "df['is_north'] = 0\n",
    "df['is_south'] = 0\n",
    "df['is_middle'] = 0\n",
    "\n",
    "for i in range(df.shape[0]):\n",
    "  if 'Miền Bắc' in str(df.loc[i, 'Vùng miền']):\n",
    "    df.loc[i, 'is_north'] = 1\n",
    "  if 'Miền Trung' in str(df.loc[i, 'Vùng miền']):\n",
    "    df.loc[i, 'is_middle'] = 1\n",
    "  if 'Miền Nam' in str(df.loc[i, 'Vùng miền']):\n",
    "    df.loc[i, 'is_south'] = 1\n",
    "  if \"Khắp cả nước\" in str(df.loc[i, 'Vùng miền']):\n",
    "    df.loc[i, 'is_north'] = 1\n",
    "    df.loc[i, 'is_south'] = 1\n",
    "    df.loc[i, 'is_middle'] = 1\n",
    "  "
   ],
   "execution_count": 10,
   "outputs": []
  },
  {
   "cell_type": "code",
   "metadata": {
    "id": "OKICjJcodOf7",
    "executionInfo": {
     "status": "ok",
     "timestamp": 1637482273024,
     "user_tz": -420,
     "elapsed": 309,
     "user": {
      "displayName": "Linh Tran Quang",
      "photoUrl": "https://lh3.googleusercontent.com/a/default-user=s64",
      "userId": "12582483732823357549"
     }
    }
   },
   "source": [
    "df['is_mon_kho'] = 0\n",
    "df['is_mon_nuoc'] = 0\n",
    "df['is_mon_nuong'] = 0\n",
    "\n",
    "for i in range(df.shape[0]):\n",
    "  if \"Món khô\" in str(df.loc[i, 'Thể loại (nướng, nước, khô, ...)']):\n",
    "    df.loc[i, 'is_mon_kho'] = 1\n",
    "  if \"Khô\" in str(df.loc[i, 'Thể loại (nướng, nước, khô, ...)']):\n",
    "    df.loc[i, 'is_mon_kho'] = 1\n",
    "  if \"Món nước\" in str(df.loc[i, 'Thể loại (nướng, nước, khô, ...)']):\n",
    "    df.loc[i, 'is_mon_nuoc'] = 1\n",
    "  if \"Nước\" in str(df.loc[i, 'Thể loại (nướng, nước, khô, ...)']):\n",
    "    df.loc[i, 'is_mon_nuoc'] = 1\n",
    "  if 'Nướng' in str(df.loc[i, 'Thể loại (nướng, nước, khô, ...)']):\n",
    "    df.loc[i, 'is_mon_nuong'] = 1"
   ],
   "execution_count": 11,
   "outputs": []
  },
  {
   "cell_type": "code",
   "metadata": {
    "colab": {
     "base_uri": "https://localhost:8080/"
    },
    "id": "D52OpiP_cyuD",
    "executionInfo": {
     "status": "ok",
     "timestamp": 1637482241088,
     "user_tz": -420,
     "elapsed": 339,
     "user": {
      "displayName": "Linh Tran Quang",
      "photoUrl": "https://lh3.googleusercontent.com/a/default-user=s64",
      "userId": "12582483732823357549"
     }
    },
    "outputId": "4d06e0e7-8aea-447e-a8ef-3a1371d9863a"
   },
   "source": [
    "if 'Nước' or \"Món nước\"  in str(df.loc[0, 'Thể loại (nướng, nước, khô, ...)']):\n",
    "    print(True)"
   ],
   "execution_count": 12,
   "outputs": [
    {
     "name": "stdout",
     "output_type": "stream",
     "text": [
      "True\n"
     ]
    }
   ]
  },
  {
   "cell_type": "code",
   "metadata": {
    "id": "GxEdNmPJjeXU",
    "executionInfo": {
     "status": "ok",
     "timestamp": 1637482475424,
     "user_tz": -420,
     "elapsed": 483,
     "user": {
      "displayName": "Linh Tran Quang",
      "photoUrl": "https://lh3.googleusercontent.com/a/default-user=s64",
      "userId": "12582483732823357549"
     }
    }
   },
   "source": [
    "df.iloc[:, [0, 6, 7, 8, 9, 10, 11] ].to_csv(\"/content/drive/MyDrive/Food Recommend Project/data/food_features.csv\", index = None)"
   ],
   "execution_count": 46,
   "outputs": []
  },
  {
   "cell_type": "code",
   "metadata": {
    "id": "pkxEWAXYh5sV",
    "executionInfo": {
     "status": "ok",
     "timestamp": 1637482492819,
     "user_tz": -420,
     "elapsed": 413,
     "user": {
      "displayName": "Linh Tran Quang",
      "photoUrl": "https://lh3.googleusercontent.com/a/default-user=s64",
      "userId": "12582483732823357549"
     }
    }
   },
   "source": [
    "df[\"description\"] = df['Thành phần']+\" \"+df['mô tả ngắn gọn ( <100 từ)']"
   ],
   "execution_count": 47,
   "outputs": []
  },
  {
   "cell_type": "code",
   "metadata": {
    "id": "jjawzHbnktBv",
    "executionInfo": {
     "status": "ok",
     "timestamp": 1637482835738,
     "user_tz": -420,
     "elapsed": 362,
     "user": {
      "displayName": "Linh Tran Quang",
      "photoUrl": "https://lh3.googleusercontent.com/a/default-user=s64",
      "userId": "12582483732823357549"
     }
    }
   },
   "source": [
    "def get_stopwords_list(stop_file_path):\n",
    "    \"\"\"load stop words \"\"\"\n",
    "    \n",
    "    with open(stop_file_path, 'r', encoding=\"utf-8\") as f:\n",
    "        stopwords = f.readlines()\n",
    "        stop_set = set(m.strip() for m in stopwords)\n",
    "        return list(frozenset(stop_set))\n",
    "stopwords_path = \"/content/drive/MyDrive/Food Recommend Project/data/vietnamese.txt\"\n",
    "stopwords = get_stopwords_list(stopwords_path)"
   ],
   "execution_count": 53,
   "outputs": []
  },
  {
   "cell_type": "code",
   "metadata": {
    "id": "2Wa1duj_lTE9"
   },
   "source": [
    "stopwords"
   ],
   "execution_count": null,
   "outputs": []
  },
  {
   "cell_type": "code",
   "metadata": {
    "id": "TmkSarQmj_G1",
    "executionInfo": {
     "status": "ok",
     "timestamp": 1637482857711,
     "user_tz": -420,
     "elapsed": 316,
     "user": {
      "displayName": "Linh Tran Quang",
      "photoUrl": "https://lh3.googleusercontent.com/a/default-user=s64",
      "userId": "12582483732823357549"
     }
    }
   },
   "source": [
    "def description_processing(text):\n",
    "  text = text.lower()\n",
    "\n",
    "  html = re.compile(\"<.*?>\")\n",
    "  text = html.sub(r\"\", text)\n",
    "\n",
    "  text = re.sub(\"[^\\w\\s]\", \"\", text)\n",
    "\n",
    "  text = normalize_diacritics(text)\n",
    "\n",
    "  text = word_tokenize(text, format = 'text')\n",
    "\n",
    "  text = text.split(\" \")\n",
    "  text = [w for w in text if not w.lower() in stopwords]\n",
    "  text = ' '.join(text)\n",
    "\n",
    "  \n",
    "  return text"
   ],
   "execution_count": 55,
   "outputs": []
  },
  {
   "cell_type": "code",
   "metadata": {
    "id": "1e3FmcZglZut",
    "executionInfo": {
     "status": "ok",
     "timestamp": 1637483112203,
     "user_tz": -420,
     "elapsed": 294,
     "user": {
      "displayName": "Linh Tran Quang",
      "photoUrl": "https://lh3.googleusercontent.com/a/default-user=s64",
      "userId": "12582483732823357549"
     }
    }
   },
   "source": [
    "processed_description = []\n",
    "for i in range(df.shape[0]):\n",
    "  processed_description.append(description_processing(df.loc[i, 'description']))"
   ],
   "execution_count": 62,
   "outputs": []
  },
  {
   "cell_type": "code",
   "metadata": {
    "colab": {
     "base_uri": "https://localhost:8080/",
     "height": 990
    },
    "id": "r2lGoc3lmKCV",
    "executionInfo": {
     "status": "ok",
     "timestamp": 1637483146745,
     "user_tz": -420,
     "elapsed": 432,
     "user": {
      "displayName": "Linh Tran Quang",
      "photoUrl": "https://lh3.googleusercontent.com/a/default-user=s64",
      "userId": "12582483732823357549"
     }
    },
    "outputId": "efa4110c-7e24-4f31-dca1-2f1cbdcb4602"
   },
   "source": [
    "df['processed_description'] = processed_description\n",
    "df[['processed_description', 'description']]"
   ],
   "execution_count": 64,
   "outputs": [
    {
     "output_type": "execute_result",
     "data": {
      "text/html": [
       "<div>\n",
       "<style scoped>\n",
       "    .dataframe tbody tr th:only-of-type {\n",
       "        vertical-align: middle;\n",
       "    }\n",
       "\n",
       "    .dataframe tbody tr th {\n",
       "        vertical-align: top;\n",
       "    }\n",
       "\n",
       "    .dataframe thead th {\n",
       "        text-align: right;\n",
       "    }\n",
       "</style>\n",
       "<table border=\"1\" class=\"dataframe\">\n",
       "  <thead>\n",
       "    <tr style=\"text-align: right;\">\n",
       "      <th></th>\n",
       "      <th>processed_description</th>\n",
       "      <th>description</th>\n",
       "    </tr>\n",
       "  </thead>\n",
       "  <tbody>\n",
       "    <tr>\n",
       "      <th>0</th>\n",
       "      <td>gạo nếp đậu xanh vừng đậu phộng xôi gạo nếp hấ...</td>\n",
       "      <td>Gạo nếp, đậu xanh, Vừng, Đậu phộng Xôi được là...</td>\n",
       "    </tr>\n",
       "    <tr>\n",
       "      <th>1</th>\n",
       "      <td>mìnước lèo thịt tôm cá trứng  đậu phộng bánh ...</td>\n",
       "      <td>mì,nước lèo, thịt, tôm, cá, trứng , đậu phộng...</td>\n",
       "    </tr>\n",
       "    <tr>\n",
       "      <th>2</th>\n",
       "      <td>bánh phở lèo thịt bò trứng chần hành lá tương ...</td>\n",
       "      <td>bánh phở, nước lèo, thịt bò, trứng chần, hành ...</td>\n",
       "    </tr>\n",
       "    <tr>\n",
       "      <th>3</th>\n",
       "      <td>gạo thịt sườn heo mỡ hành trứng chiên rau chua...</td>\n",
       "      <td>Gạo tấm, thịt sườn heo, mỡ hành, trứng chiên, ...</td>\n",
       "    </tr>\n",
       "    <tr>\n",
       "      <th>4</th>\n",
       "      <td>miến dong thịt gà nấm rau thơm miến gà vị thịt...</td>\n",
       "      <td>Miến dong, thịt gà, nấm, rau thơm Miến gà có v...</td>\n",
       "    </tr>\n",
       "    <tr>\n",
       "      <th>5</th>\n",
       "      <td>bánh phở lèo thịt gà hành lá ớt món nổi tiếng ...</td>\n",
       "      <td>bánh phở, nước lèo, thịt gà, hành lá, ớt Món ă...</td>\n",
       "    </tr>\n",
       "    <tr>\n",
       "      <th>6</th>\n",
       "      <td>bún đậu chả cốm nem dưa leo rau thơm mắm tôm m...</td>\n",
       "      <td>Bún, đậu, chả cốm, nem, lòng, dưa leo, rau thơ...</td>\n",
       "    </tr>\n",
       "    <tr>\n",
       "      <th>7</th>\n",
       "      <td>bún thịt bò thịt heo huyết bò dầu hành lá sả ớ...</td>\n",
       "      <td>Bún, thịt bò, thịt heo, huyết bò, dầu điều, hà...</td>\n",
       "    </tr>\n",
       "    <tr>\n",
       "      <th>8</th>\n",
       "      <td>bún riêu cua thịt heo đậu cà chua huyết heo ch...</td>\n",
       "      <td>Bún, riêu cua, thịt heo, đậu, cà chua, huyết h...</td>\n",
       "    </tr>\n",
       "    <tr>\n",
       "      <th>9</th>\n",
       "      <td>bánh mì thịt heo rau thơm đồ chua pate ớt bánh...</td>\n",
       "      <td>Bánh mì, thịt heo, rau thơm, đồ chua, pate, ớt...</td>\n",
       "    </tr>\n",
       "    <tr>\n",
       "      <th>10</th>\n",
       "      <td>trứng  bánh mì bột mì men rau đồ chua patê bán...</td>\n",
       "      <td>Trứng,  Bánh mì (làm từ bột mì, men), Các loại...</td>\n",
       "    </tr>\n",
       "    <tr>\n",
       "      <th>11</th>\n",
       "      <td>bột gạo ruốc tôm bánh bèo món bánh thịnh hành ...</td>\n",
       "      <td>Bột gạo, ruốc tôm Bánh bèo là một món bánh rất...</td>\n",
       "    </tr>\n",
       "    <tr>\n",
       "      <th>12</th>\n",
       "      <td>sợi bánh canh bột lọc chả cá chiên chả cá dầm ...</td>\n",
       "      <td>sợi bánh canh bột lọc, chả cá chiên, chả cá dầ...</td>\n",
       "    </tr>\n",
       "    <tr>\n",
       "      <th>13</th>\n",
       "      <td>bột mì nhân bánh thịt mộc nhĩ bánh bao món bìn...</td>\n",
       "      <td>Bột mì, nhân bánh làm từ thịt, mộc nhĩ Bánh ba...</td>\n",
       "    </tr>\n",
       "    <tr>\n",
       "      <th>14</th>\n",
       "      <td>thịt nạc dăm bún tươi hành lá đậu phộng cà rốt...</td>\n",
       "      <td>Thịt nạc dăm, bún tươi, hành lá, đậu phộng, cà...</td>\n",
       "    </tr>\n",
       "    <tr>\n",
       "      <th>15</th>\n",
       "      <td>mắm cá linh mắm cá sặc tôm mực thịt lợn xả ớt ...</td>\n",
       "      <td>Mắm cá linh, mắm cá sặc, tôm, mực, thịt lợn, x...</td>\n",
       "    </tr>\n",
       "    <tr>\n",
       "      <th>16</th>\n",
       "      <td>giò heo xương heo bún sả hành tỏi gia vị rau k...</td>\n",
       "      <td>Giò heo, xương heo, bún, sả, hành, tỏi và các ...</td>\n",
       "    </tr>\n",
       "    <tr>\n",
       "      <th>17</th>\n",
       "      <td>bánh heo tim non bao tử gan tỏi ớt chanh gừng ...</td>\n",
       "      <td>Bánh hỏi, lòng heo (tim, lòng non, bao tử, gan...</td>\n",
       "    </tr>\n",
       "    <tr>\n",
       "      <th>18</th>\n",
       "      <td>bột gạo thịt lợn xay mộc nhĩ hẹ tây bánh bột g...</td>\n",
       "      <td>Bột gạo, thịt lợn xay, mộc nhĩ, hẹ tây Bánh cu...</td>\n",
       "    </tr>\n",
       "    <tr>\n",
       "      <th>19</th>\n",
       "      <td>bánh hủ tiếu giò heo xương heo củ cải đỏ củ cả...</td>\n",
       "      <td>Bánh hủ tiếu, giò heo, xương heo, củ cải đỏ, c...</td>\n",
       "    </tr>\n",
       "    <tr>\n",
       "      <th>20</th>\n",
       "      <td>thịt gà trứng gà cơm mỡ hành dưa leo rau cơm g...</td>\n",
       "      <td>Thịt gà, trứng gà, cơm, mỡ hành, dưa leo và mộ...</td>\n",
       "    </tr>\n",
       "    <tr>\n",
       "      <th>21</th>\n",
       "      <td>mì tôm ớt thịt hải sản xúc xích rau nấm kèm mì...</td>\n",
       "      <td>Mì tôm, ớt, thịt, hải sản, xúc xích, rau và nấ...</td>\n",
       "    </tr>\n",
       "    <tr>\n",
       "      <th>22</th>\n",
       "      <td>bột bánh xèo tôm giá rau kèm bánh xèo tôm nhảy...</td>\n",
       "      <td>Bột bánh xèo, tôm, giá và rau ăn kèm Bánh xèo ...</td>\n",
       "    </tr>\n",
       "    <tr>\n",
       "      <th>23</th>\n",
       "      <td>thịt bò bột năng củ bánh mì rau kèm bò kho món...</td>\n",
       "      <td>Thịt bò, bột năng, các loại củ, bánh mì, rau ă...</td>\n",
       "    </tr>\n",
       "    <tr>\n",
       "      <th>24</th>\n",
       "      <td>gạo nội tạng heo ruột gan huyết dồi  cháo món ...</td>\n",
       "      <td>Gạo, nội tạng heo như lòng, ruột, gan, huyết, ...</td>\n",
       "    </tr>\n",
       "    <tr>\n",
       "      <th>25</th>\n",
       "      <td>thịt cua bột năng trứng gà rau củ xúp cua món ...</td>\n",
       "      <td>Thịt cua, bột năng, trứng gà, rau củ quả Xúp c...</td>\n",
       "    </tr>\n",
       "    <tr>\n",
       "      <th>26</th>\n",
       "      <td>thịt gà gạo nếp mật ong vị mật ong thấm miếng ...</td>\n",
       "      <td>Thịt gà, gạo nếp, mật ong Vị ngọt của mật ong ...</td>\n",
       "    </tr>\n",
       "    <tr>\n",
       "      <th>27</th>\n",
       "      <td>thịt gà hoa chuối củ hành tây đậu phộng rau th...</td>\n",
       "      <td>Thịt gà, hoa chuối, củ hành tây, đậu phộng, ra...</td>\n",
       "    </tr>\n",
       "    <tr>\n",
       "      <th>28</th>\n",
       "      <td>bột năng bột gạo thịt heo cà rốt nấm há cảo mó...</td>\n",
       "      <td>Bột năng, bột gạo, thịt heo, cà rốt, nấm Há cả...</td>\n",
       "    </tr>\n",
       "    <tr>\n",
       "      <th>29</th>\n",
       "      <td>bao tử heo tai heo ruột non dừa phá lấu món qu...</td>\n",
       "      <td>Bao tử heo, tai heo, ruột non, nước dừa Phá lấ...</td>\n",
       "    </tr>\n",
       "  </tbody>\n",
       "</table>\n",
       "</div>"
      ],
      "text/plain": [
       "                                processed_description                                        description\n",
       "0   gạo nếp đậu xanh vừng đậu phộng xôi gạo nếp hấ...  Gạo nếp, đậu xanh, Vừng, Đậu phộng Xôi được là...\n",
       "1    mìnước lèo thịt tôm cá trứng  đậu phộng bánh ...   mì,nước lèo, thịt, tôm, cá, trứng , đậu phộng...\n",
       "2   bánh phở lèo thịt bò trứng chần hành lá tương ...  bánh phở, nước lèo, thịt bò, trứng chần, hành ...\n",
       "3   gạo thịt sườn heo mỡ hành trứng chiên rau chua...  Gạo tấm, thịt sườn heo, mỡ hành, trứng chiên, ...\n",
       "4   miến dong thịt gà nấm rau thơm miến gà vị thịt...  Miến dong, thịt gà, nấm, rau thơm Miến gà có v...\n",
       "5   bánh phở lèo thịt gà hành lá ớt món nổi tiếng ...  bánh phở, nước lèo, thịt gà, hành lá, ớt Món ă...\n",
       "6   bún đậu chả cốm nem dưa leo rau thơm mắm tôm m...  Bún, đậu, chả cốm, nem, lòng, dưa leo, rau thơ...\n",
       "7   bún thịt bò thịt heo huyết bò dầu hành lá sả ớ...  Bún, thịt bò, thịt heo, huyết bò, dầu điều, hà...\n",
       "8   bún riêu cua thịt heo đậu cà chua huyết heo ch...  Bún, riêu cua, thịt heo, đậu, cà chua, huyết h...\n",
       "9   bánh mì thịt heo rau thơm đồ chua pate ớt bánh...  Bánh mì, thịt heo, rau thơm, đồ chua, pate, ớt...\n",
       "10  trứng  bánh mì bột mì men rau đồ chua patê bán...  Trứng,  Bánh mì (làm từ bột mì, men), Các loại...\n",
       "11  bột gạo ruốc tôm bánh bèo món bánh thịnh hành ...  Bột gạo, ruốc tôm Bánh bèo là một món bánh rất...\n",
       "12  sợi bánh canh bột lọc chả cá chiên chả cá dầm ...  sợi bánh canh bột lọc, chả cá chiên, chả cá dầ...\n",
       "13  bột mì nhân bánh thịt mộc nhĩ bánh bao món bìn...  Bột mì, nhân bánh làm từ thịt, mộc nhĩ Bánh ba...\n",
       "14  thịt nạc dăm bún tươi hành lá đậu phộng cà rốt...  Thịt nạc dăm, bún tươi, hành lá, đậu phộng, cà...\n",
       "15  mắm cá linh mắm cá sặc tôm mực thịt lợn xả ớt ...  Mắm cá linh, mắm cá sặc, tôm, mực, thịt lợn, x...\n",
       "16  giò heo xương heo bún sả hành tỏi gia vị rau k...  Giò heo, xương heo, bún, sả, hành, tỏi và các ...\n",
       "17  bánh heo tim non bao tử gan tỏi ớt chanh gừng ...  Bánh hỏi, lòng heo (tim, lòng non, bao tử, gan...\n",
       "18  bột gạo thịt lợn xay mộc nhĩ hẹ tây bánh bột g...  Bột gạo, thịt lợn xay, mộc nhĩ, hẹ tây Bánh cu...\n",
       "19  bánh hủ tiếu giò heo xương heo củ cải đỏ củ cả...  Bánh hủ tiếu, giò heo, xương heo, củ cải đỏ, c...\n",
       "20  thịt gà trứng gà cơm mỡ hành dưa leo rau cơm g...  Thịt gà, trứng gà, cơm, mỡ hành, dưa leo và mộ...\n",
       "21  mì tôm ớt thịt hải sản xúc xích rau nấm kèm mì...  Mì tôm, ớt, thịt, hải sản, xúc xích, rau và nấ...\n",
       "22  bột bánh xèo tôm giá rau kèm bánh xèo tôm nhảy...  Bột bánh xèo, tôm, giá và rau ăn kèm Bánh xèo ...\n",
       "23  thịt bò bột năng củ bánh mì rau kèm bò kho món...  Thịt bò, bột năng, các loại củ, bánh mì, rau ă...\n",
       "24  gạo nội tạng heo ruột gan huyết dồi  cháo món ...  Gạo, nội tạng heo như lòng, ruột, gan, huyết, ...\n",
       "25  thịt cua bột năng trứng gà rau củ xúp cua món ...  Thịt cua, bột năng, trứng gà, rau củ quả Xúp c...\n",
       "26  thịt gà gạo nếp mật ong vị mật ong thấm miếng ...  Thịt gà, gạo nếp, mật ong Vị ngọt của mật ong ...\n",
       "27  thịt gà hoa chuối củ hành tây đậu phộng rau th...  Thịt gà, hoa chuối, củ hành tây, đậu phộng, ra...\n",
       "28  bột năng bột gạo thịt heo cà rốt nấm há cảo mó...  Bột năng, bột gạo, thịt heo, cà rốt, nấm Há cả...\n",
       "29  bao tử heo tai heo ruột non dừa phá lấu món qu...  Bao tử heo, tai heo, ruột non, nước dừa Phá lấ..."
      ]
     },
     "metadata": {},
     "execution_count": 64
    }
   ]
  },
  {
   "cell_type": "markdown",
   "metadata": {
    "id": "fHHOoHZdoJKF"
   },
   "source": [
    "# Create TF-IDF matrix"
   ]
  },
  {
   "cell_type": "code",
   "metadata": {
    "id": "dgrugUi8m2R0",
    "executionInfo": {
     "status": "ok",
     "timestamp": 1637483427979,
     "user_tz": -420,
     "elapsed": 403,
     "user": {
      "displayName": "Linh Tran Quang",
      "photoUrl": "https://lh3.googleusercontent.com/a/default-user=s64",
      "userId": "12582483732823357549"
     }
    }
   },
   "source": [
    "\n",
    "vectorizer = TfidfVectorizer()\n",
    "vectorizer = vectorizer.fit(df['processed_description'])\n",
    "tf_idf_matrix = vectorizer.transform(df['processed_description'])\n"
   ],
   "execution_count": 70,
   "outputs": []
  },
  {
   "cell_type": "code",
   "metadata": {
    "colab": {
     "base_uri": "https://localhost:8080/"
    },
    "id": "vX4UaZVbnjaW",
    "executionInfo": {
     "status": "ok",
     "timestamp": 1637483465405,
     "user_tz": -420,
     "elapsed": 332,
     "user": {
      "displayName": "Linh Tran Quang",
      "photoUrl": "https://lh3.googleusercontent.com/a/default-user=s64",
      "userId": "12582483732823357549"
     }
    },
    "outputId": "c1e26948-cb39-4022-95ef-e41cfa89a718"
   },
   "source": [
    "numpy_matrix = tf_idf_matrix.toarray()\n",
    "numpy_matrix.shape"
   ],
   "execution_count": 74,
   "outputs": [
    {
     "output_type": "execute_result",
     "data": {
      "text/plain": [
       "(30, 393)"
      ]
     },
     "metadata": {},
     "execution_count": 74
    }
   ]
  },
  {
   "cell_type": "code",
   "metadata": {
    "id": "ntoE1yxpnv9d",
    "executionInfo": {
     "status": "ok",
     "timestamp": 1637483537579,
     "user_tz": -420,
     "elapsed": 335,
     "user": {
      "displayName": "Linh Tran Quang",
      "photoUrl": "https://lh3.googleusercontent.com/a/default-user=s64",
      "userId": "12582483732823357549"
     }
    }
   },
   "source": [
    "idf_matrix = pd.DataFrame(numpy_matrix)\n",
    "idf_matrix['FoodID'] = df['FoodID']"
   ],
   "execution_count": 76,
   "outputs": []
  },
  {
   "cell_type": "code",
   "metadata": {
    "id": "ncJ-5_2kn-Pm",
    "executionInfo": {
     "status": "ok",
     "timestamp": 1637483577265,
     "user_tz": -420,
     "elapsed": 303,
     "user": {
      "displayName": "Linh Tran Quang",
      "photoUrl": "https://lh3.googleusercontent.com/a/default-user=s64",
      "userId": "12582483732823357549"
     }
    }
   },
   "source": [
    "idf_matrix.to_csv(\"/content/drive/MyDrive/Food Recommend Project/data/food_description_idf.csv\", index = None)"
   ],
   "execution_count": 78,
   "outputs": []
  },
  {
   "cell_type": "markdown",
   "metadata": {
    "id": "omnSRHfOoO52"
   },
   "source": [
    "# Create Embedding matrix"
   ]
  },
  {
   "cell_type": "code",
   "metadata": {
    "id": "LaTLn4-KoQUF",
    "executionInfo": {
     "status": "ok",
     "timestamp": 1637483681679,
     "user_tz": -420,
     "elapsed": 356,
     "user": {
      "displayName": "Linh Tran Quang",
      "photoUrl": "https://lh3.googleusercontent.com/a/default-user=s64",
      "userId": "12582483732823357549"
     }
    }
   },
   "source": [
    "df[['FoodID', 'processed_description']].to_csv(\"/content/drive/MyDrive/Food Recommend Project/data/food_description.csv\", index = None)"
   ],
   "execution_count": 81,
   "outputs": []
  }
 ]
}